{
 "cells": [
  {
   "cell_type": "code",
   "execution_count": 197,
   "metadata": {},
   "outputs": [],
   "source": [
    "import time\n",
    "import pandas as pd\n",
    "import numpy as np\n",
    "pd.set_option('display.max_rows', 500)\n",
    "pd.set_option('display.max_columns', 500)\n",
    "from sklearn.linear_model import LogisticRegression\n",
    "from sklearn.model_selection import train_test_split, cross_validate\n",
    "from sklearn.ensemble import RandomForestClassifier\n",
    "from sklearn import metrics\n",
    "import numpy as np\n",
    "from matplotlib import pyplot\n",
    "np.random.seed(2017) # set random seed value to get reproducible results"
   ]
  },
  {
   "cell_type": "code",
   "execution_count": 198,
   "metadata": {},
   "outputs": [],
   "source": [
    "# store start time to get execution time of entire script\n",
    "start_time = time.time()"
   ]
  },
  {
   "cell_type": "code",
   "execution_count": 199,
   "metadata": {},
   "outputs": [
    {
     "name": "stdout",
     "output_type": "stream",
     "text": [
      "(5458, 39)\n"
     ]
    },
    {
     "data": {
      "text/html": [
       "<div>\n",
       "<style scoped>\n",
       "    .dataframe tbody tr th:only-of-type {\n",
       "        vertical-align: middle;\n",
       "    }\n",
       "\n",
       "    .dataframe tbody tr th {\n",
       "        vertical-align: top;\n",
       "    }\n",
       "\n",
       "    .dataframe thead th {\n",
       "        text-align: right;\n",
       "    }\n",
       "</style>\n",
       "<table border=\"1\" class=\"dataframe\">\n",
       "  <thead>\n",
       "    <tr style=\"text-align: right;\">\n",
       "      <th></th>\n",
       "      <th>engage30</th>\n",
       "      <th>init</th>\n",
       "      <th>female_cd</th>\n",
       "      <th>nonwhite_cd</th>\n",
       "      <th>unemplmt_cd</th>\n",
       "      <th>primsev_cd</th>\n",
       "      <th>prsatx_cd</th>\n",
       "      <th>TRIg_0_cd</th>\n",
       "      <th>TMIg_0_cd</th>\n",
       "      <th>SESg_0_cd</th>\n",
       "      <th>gvsg_cd</th>\n",
       "      <th>tsd_0_cd</th>\n",
       "      <th>und15_cd</th>\n",
       "      <th>CWSg_0_cd</th>\n",
       "      <th>srprobg_cd</th>\n",
       "      <th>S9y10_cd</th>\n",
       "      <th>dldiag_cd</th>\n",
       "      <th>dssg_0_cd</th>\n",
       "      <th>epsg_0_cd</th>\n",
       "      <th>adhdg_0_cd</th>\n",
       "      <th>cdsg_0_cd</th>\n",
       "      <th>suicprbs_0_cd</th>\n",
       "      <th>cjsig_0_cd</th>\n",
       "      <th>lrig_0_cd</th>\n",
       "      <th>srig_0_cd</th>\n",
       "      <th>homeless_0_cd</th>\n",
       "      <th>S6_cd</th>\n",
       "      <th>gcsg_0_cd</th>\n",
       "      <th>ncar_cd</th>\n",
       "      <th>ada_0_cd</th>\n",
       "      <th>Raceg4_cd_1</th>\n",
       "      <th>Raceg4_cd_2</th>\n",
       "      <th>Raceg4_cd_3</th>\n",
       "      <th>Raceg4_cd_4</th>\n",
       "      <th>loc_cd_1</th>\n",
       "      <th>loc_cd_2</th>\n",
       "      <th>loc_cd_3</th>\n",
       "      <th>loc_cd_6</th>\n",
       "      <th>loc_cd_9</th>\n",
       "    </tr>\n",
       "  </thead>\n",
       "  <tbody>\n",
       "    <tr>\n",
       "      <th>0</th>\n",
       "      <td>1</td>\n",
       "      <td>1</td>\n",
       "      <td>0</td>\n",
       "      <td>0</td>\n",
       "      <td>1</td>\n",
       "      <td>2</td>\n",
       "      <td>1</td>\n",
       "      <td>0</td>\n",
       "      <td>1</td>\n",
       "      <td>0</td>\n",
       "      <td>2</td>\n",
       "      <td>1</td>\n",
       "      <td>1</td>\n",
       "      <td>0</td>\n",
       "      <td>1</td>\n",
       "      <td>2</td>\n",
       "      <td>1</td>\n",
       "      <td>2</td>\n",
       "      <td>1</td>\n",
       "      <td>2</td>\n",
       "      <td>1</td>\n",
       "      <td>0</td>\n",
       "      <td>1</td>\n",
       "      <td>1</td>\n",
       "      <td>1</td>\n",
       "      <td>0</td>\n",
       "      <td>0</td>\n",
       "      <td>0</td>\n",
       "      <td>0</td>\n",
       "      <td>90</td>\n",
       "      <td>1</td>\n",
       "      <td>0</td>\n",
       "      <td>0</td>\n",
       "      <td>0</td>\n",
       "      <td>1</td>\n",
       "      <td>0</td>\n",
       "      <td>0</td>\n",
       "      <td>0</td>\n",
       "      <td>0</td>\n",
       "    </tr>\n",
       "    <tr>\n",
       "      <th>4</th>\n",
       "      <td>1</td>\n",
       "      <td>1</td>\n",
       "      <td>0</td>\n",
       "      <td>0</td>\n",
       "      <td>0</td>\n",
       "      <td>2</td>\n",
       "      <td>0</td>\n",
       "      <td>1</td>\n",
       "      <td>1</td>\n",
       "      <td>0</td>\n",
       "      <td>0</td>\n",
       "      <td>0</td>\n",
       "      <td>1</td>\n",
       "      <td>0</td>\n",
       "      <td>0</td>\n",
       "      <td>8</td>\n",
       "      <td>0</td>\n",
       "      <td>1</td>\n",
       "      <td>0</td>\n",
       "      <td>0</td>\n",
       "      <td>1</td>\n",
       "      <td>0</td>\n",
       "      <td>1</td>\n",
       "      <td>2</td>\n",
       "      <td>1</td>\n",
       "      <td>1</td>\n",
       "      <td>0</td>\n",
       "      <td>1</td>\n",
       "      <td>1</td>\n",
       "      <td>74</td>\n",
       "      <td>1</td>\n",
       "      <td>0</td>\n",
       "      <td>0</td>\n",
       "      <td>0</td>\n",
       "      <td>1</td>\n",
       "      <td>0</td>\n",
       "      <td>0</td>\n",
       "      <td>0</td>\n",
       "      <td>0</td>\n",
       "    </tr>\n",
       "    <tr>\n",
       "      <th>9</th>\n",
       "      <td>0</td>\n",
       "      <td>1</td>\n",
       "      <td>0</td>\n",
       "      <td>0</td>\n",
       "      <td>0</td>\n",
       "      <td>2</td>\n",
       "      <td>0</td>\n",
       "      <td>0</td>\n",
       "      <td>2</td>\n",
       "      <td>0</td>\n",
       "      <td>0</td>\n",
       "      <td>0</td>\n",
       "      <td>1</td>\n",
       "      <td>0</td>\n",
       "      <td>0</td>\n",
       "      <td>8</td>\n",
       "      <td>0</td>\n",
       "      <td>0</td>\n",
       "      <td>1</td>\n",
       "      <td>0</td>\n",
       "      <td>0</td>\n",
       "      <td>0</td>\n",
       "      <td>0</td>\n",
       "      <td>1</td>\n",
       "      <td>1</td>\n",
       "      <td>0</td>\n",
       "      <td>0</td>\n",
       "      <td>0</td>\n",
       "      <td>1</td>\n",
       "      <td>90</td>\n",
       "      <td>1</td>\n",
       "      <td>0</td>\n",
       "      <td>0</td>\n",
       "      <td>0</td>\n",
       "      <td>1</td>\n",
       "      <td>0</td>\n",
       "      <td>0</td>\n",
       "      <td>0</td>\n",
       "      <td>0</td>\n",
       "    </tr>\n",
       "    <tr>\n",
       "      <th>11</th>\n",
       "      <td>1</td>\n",
       "      <td>1</td>\n",
       "      <td>0</td>\n",
       "      <td>0</td>\n",
       "      <td>0</td>\n",
       "      <td>2</td>\n",
       "      <td>0</td>\n",
       "      <td>1</td>\n",
       "      <td>1</td>\n",
       "      <td>0</td>\n",
       "      <td>2</td>\n",
       "      <td>0</td>\n",
       "      <td>1</td>\n",
       "      <td>0</td>\n",
       "      <td>1</td>\n",
       "      <td>1</td>\n",
       "      <td>1</td>\n",
       "      <td>1</td>\n",
       "      <td>2</td>\n",
       "      <td>2</td>\n",
       "      <td>1</td>\n",
       "      <td>0</td>\n",
       "      <td>2</td>\n",
       "      <td>1</td>\n",
       "      <td>1</td>\n",
       "      <td>0</td>\n",
       "      <td>0</td>\n",
       "      <td>0</td>\n",
       "      <td>0</td>\n",
       "      <td>90</td>\n",
       "      <td>1</td>\n",
       "      <td>0</td>\n",
       "      <td>0</td>\n",
       "      <td>0</td>\n",
       "      <td>1</td>\n",
       "      <td>0</td>\n",
       "      <td>0</td>\n",
       "      <td>0</td>\n",
       "      <td>0</td>\n",
       "    </tr>\n",
       "    <tr>\n",
       "      <th>16</th>\n",
       "      <td>1</td>\n",
       "      <td>1</td>\n",
       "      <td>0</td>\n",
       "      <td>0</td>\n",
       "      <td>0</td>\n",
       "      <td>2</td>\n",
       "      <td>0</td>\n",
       "      <td>0</td>\n",
       "      <td>1</td>\n",
       "      <td>0</td>\n",
       "      <td>2</td>\n",
       "      <td>1</td>\n",
       "      <td>1</td>\n",
       "      <td>0</td>\n",
       "      <td>1</td>\n",
       "      <td>1</td>\n",
       "      <td>1</td>\n",
       "      <td>2</td>\n",
       "      <td>1</td>\n",
       "      <td>2</td>\n",
       "      <td>2</td>\n",
       "      <td>0</td>\n",
       "      <td>2</td>\n",
       "      <td>2</td>\n",
       "      <td>2</td>\n",
       "      <td>1</td>\n",
       "      <td>1</td>\n",
       "      <td>2</td>\n",
       "      <td>1</td>\n",
       "      <td>0</td>\n",
       "      <td>1</td>\n",
       "      <td>0</td>\n",
       "      <td>0</td>\n",
       "      <td>0</td>\n",
       "      <td>1</td>\n",
       "      <td>0</td>\n",
       "      <td>0</td>\n",
       "      <td>0</td>\n",
       "      <td>0</td>\n",
       "    </tr>\n",
       "  </tbody>\n",
       "</table>\n",
       "</div>"
      ],
      "text/plain": [
       "    engage30  init  female_cd  nonwhite_cd  unemplmt_cd  primsev_cd  \\\n",
       "0          1     1          0            0            1           2   \n",
       "4          1     1          0            0            0           2   \n",
       "9          0     1          0            0            0           2   \n",
       "11         1     1          0            0            0           2   \n",
       "16         1     1          0            0            0           2   \n",
       "\n",
       "    prsatx_cd  TRIg_0_cd  TMIg_0_cd  SESg_0_cd  gvsg_cd  tsd_0_cd  und15_cd  \\\n",
       "0           1          0          1          0        2         1         1   \n",
       "4           0          1          1          0        0         0         1   \n",
       "9           0          0          2          0        0         0         1   \n",
       "11          0          1          1          0        2         0         1   \n",
       "16          0          0          1          0        2         1         1   \n",
       "\n",
       "    CWSg_0_cd  srprobg_cd  S9y10_cd  dldiag_cd  dssg_0_cd  epsg_0_cd  \\\n",
       "0           0           1         2          1          2          1   \n",
       "4           0           0         8          0          1          0   \n",
       "9           0           0         8          0          0          1   \n",
       "11          0           1         1          1          1          2   \n",
       "16          0           1         1          1          2          1   \n",
       "\n",
       "    adhdg_0_cd  cdsg_0_cd  suicprbs_0_cd  cjsig_0_cd  lrig_0_cd  srig_0_cd  \\\n",
       "0            2          1              0           1          1          1   \n",
       "4            0          1              0           1          2          1   \n",
       "9            0          0              0           0          1          1   \n",
       "11           2          1              0           2          1          1   \n",
       "16           2          2              0           2          2          2   \n",
       "\n",
       "    homeless_0_cd  S6_cd  gcsg_0_cd  ncar_cd  ada_0_cd  Raceg4_cd_1  \\\n",
       "0               0      0          0        0        90            1   \n",
       "4               1      0          1        1        74            1   \n",
       "9               0      0          0        1        90            1   \n",
       "11              0      0          0        0        90            1   \n",
       "16              1      1          2        1         0            1   \n",
       "\n",
       "    Raceg4_cd_2  Raceg4_cd_3  Raceg4_cd_4  loc_cd_1  loc_cd_2  loc_cd_3  \\\n",
       "0             0            0            0         1         0         0   \n",
       "4             0            0            0         1         0         0   \n",
       "9             0            0            0         1         0         0   \n",
       "11            0            0            0         1         0         0   \n",
       "16            0            0            0         1         0         0   \n",
       "\n",
       "    loc_cd_6  loc_cd_9  \n",
       "0          0         0  \n",
       "4          0         0  \n",
       "9          0         0  \n",
       "11         0         0  \n",
       "16         0         0  "
      ]
     },
     "execution_count": 199,
     "metadata": {},
     "output_type": "execute_result"
    }
   ],
   "source": [
    "df = pd.read_csv('data_cleaned.csv', index_col=[0])\n",
    "print(df.shape)\n",
    "df.head()"
   ]
  },
  {
   "cell_type": "code",
   "execution_count": 200,
   "metadata": {},
   "outputs": [
    {
     "name": "stdout",
     "output_type": "stream",
     "text": [
      "Opioids: (933, 38)\n",
      "Stimulants: (4525, 38)\n"
     ]
    }
   ],
   "source": [
    "opioids_mask = df['primsev_cd'] == 5\n",
    "opioids = df[opioids_mask]\n",
    "opioids = opioids.drop(columns=['primsev_cd'])\n",
    "\n",
    "amphetamines_mask = df['primsev_cd'] == 2\n",
    "cocaine_mask = df['primsev_cd'] == 4\n",
    "stimulants = df[amphetamines_mask | cocaine_mask]\n",
    "stimulants = stimulants.drop(columns=['primsev_cd'])\n",
    "\n",
    "print('Opioids:', opioids.shape)\n",
    "print('Stimulants:', stimulants.shape)"
   ]
  },
  {
   "cell_type": "code",
   "execution_count": 201,
   "metadata": {},
   "outputs": [
    {
     "data": {
      "text/plain": [
       "1    4021\n",
       "0     504\n",
       "Name: init, dtype: int64"
      ]
     },
     "execution_count": 201,
     "metadata": {},
     "output_type": "execute_result"
    }
   ],
   "source": [
    "stimulants['init'].value_counts()"
   ]
  },
  {
   "cell_type": "code",
   "execution_count": 202,
   "metadata": {},
   "outputs": [
    {
     "data": {
      "text/plain": [
       "1    830\n",
       "0    103\n",
       "Name: init, dtype: int64"
      ]
     },
     "execution_count": 202,
     "metadata": {},
     "output_type": "execute_result"
    }
   ],
   "source": [
    "opioids['init'].value_counts()"
   ]
  },
  {
   "cell_type": "code",
   "execution_count": 203,
   "metadata": {},
   "outputs": [
    {
     "data": {
      "text/plain": [
       "1    2861\n",
       "0    1664\n",
       "Name: engage30, dtype: int64"
      ]
     },
     "execution_count": 203,
     "metadata": {},
     "output_type": "execute_result"
    }
   ],
   "source": [
    "stimulants['engage30'].value_counts()"
   ]
  },
  {
   "cell_type": "code",
   "execution_count": 204,
   "metadata": {},
   "outputs": [
    {
     "data": {
      "text/plain": [
       "1    657\n",
       "0    276\n",
       "Name: engage30, dtype: int64"
      ]
     },
     "execution_count": 204,
     "metadata": {},
     "output_type": "execute_result"
    }
   ],
   "source": [
    "opioids['engage30'].value_counts()"
   ]
  },
  {
   "cell_type": "code",
   "execution_count": 205,
   "metadata": {},
   "outputs": [],
   "source": [
    "def run_model(model, data, grouping, outcome):\n",
    "    X = data.drop(columns=[outcome])\n",
    "    y = data[outcome]\n",
    "    \n",
    "    X_train, X_test, y_train, y_test = train_test_split(X, y, test_size=0.33)\n",
    "    print(\"X_train:\", X_train.shape, \"X_test:\", X_test.shape, \"y_train:\", y_train.shape, \"y_test:\", y_test.shape)    \n",
    "    \n",
    "    res = cross_validate(model, X_train, y_train, return_estimator=True, cv=5)\n",
    "    top_model_ind = list(res['test_score']).index(max(list(res['test_score'])))\n",
    "    model = res['estimator'][top_model_ind]\n",
    "    \n",
    "    y_pred = model.predict(X_test)\n",
    "\n",
    "    accuracy = metrics.accuracy_score(y_test, y_pred)\n",
    "    f1 = metrics.f1_score(y_test, y_pred)\n",
    "    precision = metrics.precision_score(y_test, y_pred)\n",
    "    recall = metrics.recall_score(y_test, y_pred)\n",
    "\n",
    "    # https://towardsdatascience.com/accuracy-precision-recall-or-f1-331fb37c5cb9\n",
    "    print(\"Accuracy:\", accuracy)\n",
    "    print(\"F1:\", f1)\n",
    "    print(\"Precision:\", precision)\n",
    "    print(\"Recall:\", recall)\n",
    "    \n",
    "    try:\n",
    "        # random forest\n",
    "        feature_importance = model.feature_importances_ \n",
    "        label = \"RF \" + grouping + \" \" + outcome\n",
    "    except AttributeError:\n",
    "        # logistic regression\n",
    "        feature_importance = model.coef_[0]\n",
    "        label = \"LR \" + grouping + \" \" + outcome\n",
    "    \n",
    "    ns_probs = [0 for _ in range(len(y_test))]\n",
    "    lr_probs = model.predict_proba(X_test)\n",
    "    # keep probabilities for the positive outcome only\n",
    "    lr_probs = lr_probs[:, 1]\n",
    "    # calculate scores\n",
    "    lr_auc = metrics.roc_auc_score(y_test, lr_probs)\n",
    "    # summarize scores\n",
    "    print('AUC: %.3f' % (lr_auc))\n",
    "    # calculate roc curves\n",
    "    ns_fpr, ns_tpr, _ = metrics.roc_curve(y_test, ns_probs)\n",
    "    lr_fpr, lr_tpr, _ = metrics.roc_curve(y_test, lr_probs)\n",
    "    # plot the roc curve for the model\n",
    "    pyplot.plot(ns_fpr, ns_tpr, linestyle='--', label='No Skill')\n",
    "    pyplot.plot(lr_fpr, lr_tpr, marker='.', label='Logistic')\n",
    "    # axis labels\n",
    "    pyplot.xlabel('False Positive Rate')\n",
    "    pyplot.ylabel('True Positive Rate')\n",
    "    pyplot.title(label)\n",
    "    # show the legend\n",
    "    pyplot.legend()\n",
    "    # show the plot\n",
    "    pyplot.show()\n",
    "    \n",
    "    features = X.columns\n",
    "    feature_importance_df = pd.DataFrame({\"feature\": features, label: feature_importance})\n",
    "    feature_importance_df = feature_importance_df.set_index('feature')\n",
    "    return feature_importance_df"
   ]
  },
  {
   "cell_type": "code",
   "execution_count": 206,
   "metadata": {},
   "outputs": [],
   "source": [
    "opioids_engage30 = opioids.drop(columns=['init'])\n",
    "opioids_init = opioids.drop(columns=['engage30'])\n",
    "stimulants_engage30 = stimulants.drop(columns=['init'])\n",
    "stimulants_init = stimulants.drop(columns=['engage30'])"
   ]
  },
  {
   "cell_type": "code",
   "execution_count": 207,
   "metadata": {},
   "outputs": [],
   "source": [
    "features = list(opioids_engage30.columns)\n",
    "features.remove('engage30')\n",
    "feature_importance = pd.DataFrame({\"feature\": features})\n",
    "\n",
    "feature_importance_random_forest = feature_importance.set_index('feature')\n",
    "feature_importance_logistic_regression = feature_importance.set_index('feature')"
   ]
  },
  {
   "cell_type": "code",
   "execution_count": 208,
   "metadata": {},
   "outputs": [
    {
     "name": "stdout",
     "output_type": "stream",
     "text": [
      "X_train: (3031, 36) X_test: (1494, 36) y_train: (3031,) y_test: (1494,)\n",
      "Accuracy: 0.8942436412315931\n",
      "F1: 0.9441301272984443\n",
      "Precision: 0.8983849259757739\n",
      "Recall: 0.9947839046199702\n",
      "AUC: 0.698\n"
     ]
    },
    {
     "data": {
      "image/png": "[encoded data removed]",
      "text/plain": [
       "<Figure size 432x288 with 1 Axes>"
      ]
     },
     "metadata": {
      "needs_background": "light"
     },
     "output_type": "display_data"
    }
   ],
   "source": [
    "random_forest_stimulants_init = run_model(RandomForestClassifier(), stimulants_init, 'stimulants', 'init')\n",
    "feature_importance_random_forest = feature_importance_random_forest.join(random_forest_stimulants_init)"
   ]
  },
  {
   "cell_type": "code",
   "execution_count": 209,
   "metadata": {},
   "outputs": [
    {
     "name": "stdout",
     "output_type": "stream",
     "text": [
      "X_train: (3031, 36) X_test: (1494, 36) y_train: (3031,) y_test: (1494,)\n",
      "Accuracy: 0.8768406961178046\n",
      "F1: 0.9343794579172612\n",
      "Precision: 0.8774279973208305\n",
      "Recall: 0.9992372234935164\n",
      "AUC: 0.652\n"
     ]
    },
    {
     "data": {
      "image/png": "[encoded data removed]",
      "text/plain": [
       "<Figure size 432x288 with 1 Axes>"
      ]
     },
     "metadata": {
      "needs_background": "light"
     },
     "output_type": "display_data"
    }
   ],
   "source": [
    "logistic_regression_stimulants_init = run_model(LogisticRegression(max_iter=1000), stimulants_init, 'stimulants', 'init')\n",
    "feature_importance_logistic_regression = feature_importance_logistic_regression.join(logistic_regression_stimulants_init)"
   ]
  },
  {
   "cell_type": "code",
   "execution_count": 210,
   "metadata": {},
   "outputs": [
    {
     "name": "stdout",
     "output_type": "stream",
     "text": [
      "X_train: (625, 36) X_test: (308, 36) y_train: (625,) y_test: (308,)\n",
      "Accuracy: 0.8928571428571429\n",
      "F1: 0.9433962264150945\n",
      "Precision: 0.8928571428571429\n",
      "Recall: 1.0\n",
      "AUC: 0.610\n"
     ]
    },
    {
     "data": {
      "image/png": "[encoded data removed]",
      "text/plain": [
       "<Figure size 432x288 with 1 Axes>"
      ]
     },
     "metadata": {
      "needs_background": "light"
     },
     "output_type": "display_data"
    }
   ],
   "source": [
    "random_forest_opioids_init = run_model(RandomForestClassifier(), opioids_init, 'opioids', 'init')\n",
    "feature_importance_random_forest = feature_importance_random_forest.join(random_forest_opioids_init)"
   ]
  },
  {
   "cell_type": "code",
   "execution_count": 211,
   "metadata": {},
   "outputs": [
    {
     "name": "stdout",
     "output_type": "stream",
     "text": [
      "X_train: (625, 36) X_test: (308, 36) y_train: (625,) y_test: (308,)\n",
      "Accuracy: 0.9090909090909091\n",
      "F1: 0.9522184300341298\n",
      "Precision: 0.9147540983606557\n",
      "Recall: 0.9928825622775801\n",
      "AUC: 0.720\n"
     ]
    },
    {
     "data": {
      "image/png": "[encoded data removed]",
      "text/plain": [
       "<Figure size 432x288 with 1 Axes>"
      ]
     },
     "metadata": {
      "needs_background": "light"
     },
     "output_type": "display_data"
    }
   ],
   "source": [
    "logistic_regression_opioids_init = run_model(LogisticRegression(max_iter=1000), opioids_init, 'opioids', 'init')\n",
    "feature_importance_logistic_regression = feature_importance_logistic_regression.join(logistic_regression_opioids_init)"
   ]
  },
  {
   "cell_type": "code",
   "execution_count": 212,
   "metadata": {},
   "outputs": [
    {
     "name": "stdout",
     "output_type": "stream",
     "text": [
      "X_train: (3031, 36) X_test: (1494, 36) y_train: (3031,) y_test: (1494,)\n",
      "Accuracy: 0.6412315930388219\n",
      "F1: 0.7541284403669725\n",
      "Precision: 0.6699266503667481\n",
      "Recall: 0.8625393494228751\n",
      "AUC: 0.621\n"
     ]
    },
    {
     "data": {
      "image/png": "[encoded data removed]",
      "text/plain": [
       "<Figure size 432x288 with 1 Axes>"
      ]
     },
     "metadata": {
      "needs_background": "light"
     },
     "output_type": "display_data"
    }
   ],
   "source": [
    "random_forest_stimulants_engage30 = run_model(RandomForestClassifier(), stimulants_engage30, 'stimulants', 'engage30')\n",
    "feature_importance_random_forest = feature_importance_random_forest.join(random_forest_stimulants_engage30)"
   ]
  },
  {
   "cell_type": "code",
   "execution_count": 213,
   "metadata": {},
   "outputs": [
    {
     "name": "stdout",
     "output_type": "stream",
     "text": [
      "X_train: (3031, 36) X_test: (1494, 36) y_train: (3031,) y_test: (1494,)\n",
      "Accuracy: 0.6291834002677377\n",
      "F1: 0.7546501328609388\n",
      "Precision: 0.6464339908952959\n",
      "Recall: 0.9063829787234042\n",
      "AUC: 0.593\n"
     ]
    },
    {
     "data": {
      "image/png": "[encoded data removed]",
      "text/plain": [
       "<Figure size 432x288 with 1 Axes>"
      ]
     },
     "metadata": {
      "needs_background": "light"
     },
     "output_type": "display_data"
    }
   ],
   "source": [
    "logistic_regression_stimulants_engage30 = run_model(LogisticRegression(max_iter=1000), stimulants_engage30, 'stimulants', 'engage30')\n",
    "feature_importance_logistic_regression = feature_importance_logistic_regression.join(logistic_regression_stimulants_engage30)"
   ]
  },
  {
   "cell_type": "code",
   "execution_count": 214,
   "metadata": {},
   "outputs": [
    {
     "name": "stdout",
     "output_type": "stream",
     "text": [
      "X_train: (625, 36) X_test: (308, 36) y_train: (625,) y_test: (308,)\n",
      "Accuracy: 0.6883116883116883\n",
      "F1: 0.8032786885245901\n",
      "Precision: 0.7205882352941176\n",
      "Recall: 0.9074074074074074\n",
      "AUC: 0.575\n"
     ]
    },
    {
     "data": {
      "image/png": "[encoded data removed]",
      "text/plain": [
       "<Figure size 432x288 with 1 Axes>"
      ]
     },
     "metadata": {
      "needs_background": "light"
     },
     "output_type": "display_data"
    }
   ],
   "source": [
    "random_forest_opioids_engage30 = run_model(RandomForestClassifier(), opioids_engage30, 'opioids', 'engage30')\n",
    "feature_importance_random_forest = feature_importance_random_forest.join(random_forest_opioids_engage30)"
   ]
  },
  {
   "cell_type": "code",
   "execution_count": 215,
   "metadata": {},
   "outputs": [
    {
     "name": "stdout",
     "output_type": "stream",
     "text": [
      "X_train: (625, 36) X_test: (308, 36) y_train: (625,) y_test: (308,)\n",
      "Accuracy: 0.7142857142857143\n",
      "F1: 0.8225806451612904\n",
      "Precision: 0.7338129496402878\n",
      "Recall: 0.9357798165137615\n",
      "AUC: 0.607\n"
     ]
    },
    {
     "data": {
      "image/png": "[encoded data removed]",
      "text/plain": [
       "<Figure size 432x288 with 1 Axes>"
      ]
     },
     "metadata": {
      "needs_background": "light"
     },
     "output_type": "display_data"
    }
   ],
   "source": [
    "logistic_regression_opioids_engage30 = run_model(LogisticRegression(max_iter=1000), opioids_engage30, 'opioids', 'engage30')\n",
    "feature_importance_logistic_regression = feature_importance_logistic_regression.join(logistic_regression_opioids_engage30)"
   ]
  },
  {
   "cell_type": "code",
   "execution_count": 216,
   "metadata": {},
   "outputs": [],
   "source": [
    "def func(row, groups):\n",
    "    result = 0\n",
    "    for group in groups:\n",
    "        result += abs(row[group])\n",
    "    return result\n",
    "\n",
    "feature_importance_random_forest['abs sum'] = feature_importance_random_forest.apply(lambda row: func(row, feature_importance_random_forest.columns), axis=1)\n",
    "feature_importance_random_forest = feature_importance_random_forest.sort_values(by='abs sum', ascending=False)\n",
    "\n",
    "feature_importance_logistic_regression['abs sum'] = feature_importance_logistic_regression.apply(lambda row: func(row, feature_importance_logistic_regression.columns), axis=1)\n",
    "feature_importance_logistic_regression = feature_importance_logistic_regression.sort_values(by='abs sum', ascending=False)"
   ]
  },
  {
   "cell_type": "code",
   "execution_count": 217,
   "metadata": {},
   "outputs": [
    {
     "data": {
      "text/html": [
       "<div>\n",
       "<style scoped>\n",
       "    .dataframe tbody tr th:only-of-type {\n",
       "        vertical-align: middle;\n",
       "    }\n",
       "\n",
       "    .dataframe tbody tr th {\n",
       "        vertical-align: top;\n",
       "    }\n",
       "\n",
       "    .dataframe thead th {\n",
       "        text-align: right;\n",
       "    }\n",
       "</style>\n",
       "<table border=\"1\" class=\"dataframe\">\n",
       "  <thead>\n",
       "    <tr style=\"text-align: right;\">\n",
       "      <th></th>\n",
       "      <th>RF stimulants init</th>\n",
       "      <th>RF opioids init</th>\n",
       "      <th>RF stimulants engage30</th>\n",
       "      <th>RF opioids engage30</th>\n",
       "      <th>abs sum</th>\n",
       "    </tr>\n",
       "    <tr>\n",
       "      <th>feature</th>\n",
       "      <th></th>\n",
       "      <th></th>\n",
       "      <th></th>\n",
       "      <th></th>\n",
       "      <th></th>\n",
       "    </tr>\n",
       "  </thead>\n",
       "  <tbody>\n",
       "    <tr>\n",
       "      <th>ada_0_cd</th>\n",
       "      <td>0.104832</td>\n",
       "      <td>0.113719</td>\n",
       "      <td>0.100904</td>\n",
       "      <td>0.108122</td>\n",
       "      <td>0.427578</td>\n",
       "    </tr>\n",
       "    <tr>\n",
       "      <th>cjsig_0_cd</th>\n",
       "      <td>0.046983</td>\n",
       "      <td>0.047720</td>\n",
       "      <td>0.041553</td>\n",
       "      <td>0.043951</td>\n",
       "      <td>0.180207</td>\n",
       "    </tr>\n",
       "    <tr>\n",
       "      <th>SESg_0_cd</th>\n",
       "      <td>0.037166</td>\n",
       "      <td>0.037009</td>\n",
       "      <td>0.036350</td>\n",
       "      <td>0.051537</td>\n",
       "      <td>0.162063</td>\n",
       "    </tr>\n",
       "    <tr>\n",
       "      <th>gcsg_0_cd</th>\n",
       "      <td>0.041984</td>\n",
       "      <td>0.040499</td>\n",
       "      <td>0.039989</td>\n",
       "      <td>0.038101</td>\n",
       "      <td>0.160573</td>\n",
       "    </tr>\n",
       "    <tr>\n",
       "      <th>gvsg_cd</th>\n",
       "      <td>0.043595</td>\n",
       "      <td>0.038818</td>\n",
       "      <td>0.040775</td>\n",
       "      <td>0.033955</td>\n",
       "      <td>0.157143</td>\n",
       "    </tr>\n",
       "  </tbody>\n",
       "</table>\n",
       "</div>"
      ],
      "text/plain": [
       "            RF stimulants init  RF opioids init  RF stimulants engage30  \\\n",
       "feature                                                                   \n",
       "ada_0_cd              0.104832         0.113719                0.100904   \n",
       "cjsig_0_cd            0.046983         0.047720                0.041553   \n",
       "SESg_0_cd             0.037166         0.037009                0.036350   \n",
       "gcsg_0_cd             0.041984         0.040499                0.039989   \n",
       "gvsg_cd               0.043595         0.038818                0.040775   \n",
       "\n",
       "            RF opioids engage30   abs sum  \n",
       "feature                                    \n",
       "ada_0_cd               0.108122  0.427578  \n",
       "cjsig_0_cd             0.043951  0.180207  \n",
       "SESg_0_cd              0.051537  0.162063  \n",
       "gcsg_0_cd              0.038101  0.160573  \n",
       "gvsg_cd                0.033955  0.157143  "
      ]
     },
     "execution_count": 217,
     "metadata": {},
     "output_type": "execute_result"
    }
   ],
   "source": [
    "feature_importance_random_forest.head() "
   ]
  },
  {
   "cell_type": "code",
   "execution_count": 218,
   "metadata": {},
   "outputs": [
    {
     "data": {
      "text/html": [
       "<div>\n",
       "<style scoped>\n",
       "    .dataframe tbody tr th:only-of-type {\n",
       "        vertical-align: middle;\n",
       "    }\n",
       "\n",
       "    .dataframe tbody tr th {\n",
       "        vertical-align: top;\n",
       "    }\n",
       "\n",
       "    .dataframe thead th {\n",
       "        text-align: right;\n",
       "    }\n",
       "</style>\n",
       "<table border=\"1\" class=\"dataframe\">\n",
       "  <thead>\n",
       "    <tr style=\"text-align: right;\">\n",
       "      <th></th>\n",
       "      <th>LR stimulants init</th>\n",
       "      <th>LR opioids init</th>\n",
       "      <th>LR stimulants engage30</th>\n",
       "      <th>LR opioids engage30</th>\n",
       "      <th>abs sum</th>\n",
       "    </tr>\n",
       "    <tr>\n",
       "      <th>feature</th>\n",
       "      <th></th>\n",
       "      <th></th>\n",
       "      <th></th>\n",
       "      <th></th>\n",
       "      <th></th>\n",
       "    </tr>\n",
       "  </thead>\n",
       "  <tbody>\n",
       "    <tr>\n",
       "      <th>loc_cd_9</th>\n",
       "      <td>-0.745703</td>\n",
       "      <td>-1.263854</td>\n",
       "      <td>0.723292</td>\n",
       "      <td>0.810521</td>\n",
       "      <td>3.543370</td>\n",
       "    </tr>\n",
       "    <tr>\n",
       "      <th>loc_cd_1</th>\n",
       "      <td>1.133532</td>\n",
       "      <td>1.039043</td>\n",
       "      <td>0.253642</td>\n",
       "      <td>-0.504388</td>\n",
       "      <td>2.930605</td>\n",
       "    </tr>\n",
       "    <tr>\n",
       "      <th>und15_cd</th>\n",
       "      <td>-0.307082</td>\n",
       "      <td>-1.010056</td>\n",
       "      <td>0.027313</td>\n",
       "      <td>-0.570591</td>\n",
       "      <td>1.915042</td>\n",
       "    </tr>\n",
       "    <tr>\n",
       "      <th>loc_cd_6</th>\n",
       "      <td>-0.144439</td>\n",
       "      <td>0.089457</td>\n",
       "      <td>-0.646724</td>\n",
       "      <td>-0.958544</td>\n",
       "      <td>1.839164</td>\n",
       "    </tr>\n",
       "    <tr>\n",
       "      <th>dldiag_cd</th>\n",
       "      <td>-0.050322</td>\n",
       "      <td>1.115691</td>\n",
       "      <td>0.213279</td>\n",
       "      <td>0.447831</td>\n",
       "      <td>1.827122</td>\n",
       "    </tr>\n",
       "  </tbody>\n",
       "</table>\n",
       "</div>"
      ],
      "text/plain": [
       "           LR stimulants init  LR opioids init  LR stimulants engage30  \\\n",
       "feature                                                                  \n",
       "loc_cd_9            -0.745703        -1.263854                0.723292   \n",
       "loc_cd_1             1.133532         1.039043                0.253642   \n",
       "und15_cd            -0.307082        -1.010056                0.027313   \n",
       "loc_cd_6            -0.144439         0.089457               -0.646724   \n",
       "dldiag_cd           -0.050322         1.115691                0.213279   \n",
       "\n",
       "           LR opioids engage30   abs sum  \n",
       "feature                                   \n",
       "loc_cd_9              0.810521  3.543370  \n",
       "loc_cd_1             -0.504388  2.930605  \n",
       "und15_cd             -0.570591  1.915042  \n",
       "loc_cd_6             -0.958544  1.839164  \n",
       "dldiag_cd             0.447831  1.827122  "
      ]
     },
     "execution_count": 218,
     "metadata": {},
     "output_type": "execute_result"
    }
   ],
   "source": [
    "feature_importance_logistic_regression.head() "
   ]
  },
  {
   "cell_type": "code",
   "execution_count": 219,
   "metadata": {},
   "outputs": [],
   "source": [
    "# Create a Pandas Excel writer using XlsxWriter as the engine.\n",
    "writer = pd.ExcelWriter('feature_importance.xlsx', engine='xlsxwriter')\n",
    "\n",
    "# Write each dataframe to a different worksheet.\n",
    "feature_importance_random_forest.to_excel(writer, sheet_name='Random Forest')\n",
    "feature_importance_logistic_regression.to_excel(writer, sheet_name='Logistic Regression')\n",
    "\n",
    "# Close the Pandas Excel writer and output the Excel file.\n",
    "writer.save()"
   ]
  },
  {
   "cell_type": "code",
   "execution_count": 220,
   "metadata": {},
   "outputs": [
    {
     "name": "stdout",
     "output_type": "stream",
     "text": [
      "--- 0 minutes 11 seconds ---\n"
     ]
    }
   ],
   "source": [
    "total_seconds = int(time.time() - start_time)\n",
    "hours = total_seconds // (60 * 60)\n",
    "minutes = (total_seconds - hours*60) // 60\n",
    "seconds = (total_seconds - hours*60) % 60\n",
    "print(\"--- \" + str(minutes) + \" minutes \" + str(seconds) + \" seconds ---\")"
   ]
  },
  {
   "cell_type": "code",
   "execution_count": 221,
   "metadata": {},
   "outputs": [],
   "source": [
    "# notes\n",
    "\n",
    "# distribution of engage30 is better (~60% positive rate) than init (~90% positive rate)\n",
    "# based on the low coefficients for all the features for init predictions it looks like the \n",
    "#   model is always predicting the same thing\n",
    "# engage30 dominates feature importance"
   ]
  }
 ],
 "metadata": {
  "kernelspec": {
   "display_name": "Python 3",
   "language": "python",
   "name": "python3"
  },
  "language_info": {
   "codemirror_mode": {
    "name": "ipython",
    "version": 3
   },
   "file_extension": ".py",
   "mimetype": "text/x-python",
   "name": "python",
   "nbconvert_exporter": "python",
   "pygments_lexer": "ipython3",
   "version": "3.7.3"
  }
 },
 "nbformat": 4,
 "nbformat_minor": 2
}

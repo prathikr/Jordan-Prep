{
 "cells": [
  {
   "cell_type": "code",
   "execution_count": 111,
   "metadata": {},
   "outputs": [],
   "source": [
    "import time\n",
    "import pandas as pd\n",
    "import numpy as np\n",
    "from sklearn.linear_model import LogisticRegression\n",
    "from sklearn.model_selection import train_test_split, cross_validate\n",
    "from sklearn.ensemble import RandomForestClassifier\n",
    "from sklearn import metrics\n",
    "import numpy as np\n",
    "from matplotlib import pyplot\n",
    "np.random.seed(2017) # set random seed value to get reproducible results"
   ]
  },
  {
   "cell_type": "code",
   "execution_count": 112,
   "metadata": {},
   "outputs": [],
   "source": [
    "# store start time to get execution time of entire script\n",
    "start_time = time.time()"
   ]
  },
  {
   "cell_type": "markdown",
   "metadata": {},
   "source": [
    "### Load Data"
   ]
  },
  {
   "cell_type": "code",
   "execution_count": 113,
   "metadata": {},
   "outputs": [
    {
     "name": "stdout",
     "output_type": "stream",
     "text": [
      "(5457, 39)\n"
     ]
    },
    {
     "data": {
      "text/html": [
       "<div>\n",
       "<style scoped>\n",
       "    .dataframe tbody tr th:only-of-type {\n",
       "        vertical-align: middle;\n",
       "    }\n",
       "\n",
       "    .dataframe tbody tr th {\n",
       "        vertical-align: top;\n",
       "    }\n",
       "\n",
       "    .dataframe thead th {\n",
       "        text-align: right;\n",
       "    }\n",
       "</style>\n",
       "<table border=\"1\" class=\"dataframe\">\n",
       "  <thead>\n",
       "    <tr style=\"text-align: right;\">\n",
       "      <th></th>\n",
       "      <th>engage30</th>\n",
       "      <th>init</th>\n",
       "      <th>female_cd</th>\n",
       "      <th>nonwhite_cd</th>\n",
       "      <th>unemplmt_cd</th>\n",
       "      <th>primsev_cd</th>\n",
       "      <th>prsatx_cd</th>\n",
       "      <th>TRIg_0_cd</th>\n",
       "      <th>TMIg_0_cd</th>\n",
       "      <th>SESg_0_cd</th>\n",
       "      <th>...</th>\n",
       "      <th>SFSg_0_cd</th>\n",
       "      <th>Raceg4_cd_1</th>\n",
       "      <th>Raceg4_cd_2</th>\n",
       "      <th>Raceg4_cd_3</th>\n",
       "      <th>Raceg4_cd_4</th>\n",
       "      <th>loc_cd_1</th>\n",
       "      <th>loc_cd_2</th>\n",
       "      <th>loc_cd_3</th>\n",
       "      <th>loc_cd_6</th>\n",
       "      <th>loc_cd_9</th>\n",
       "    </tr>\n",
       "  </thead>\n",
       "  <tbody>\n",
       "    <tr>\n",
       "      <th>0</th>\n",
       "      <td>1</td>\n",
       "      <td>1</td>\n",
       "      <td>0</td>\n",
       "      <td>0</td>\n",
       "      <td>1</td>\n",
       "      <td>2</td>\n",
       "      <td>1</td>\n",
       "      <td>0</td>\n",
       "      <td>1</td>\n",
       "      <td>0</td>\n",
       "      <td>...</td>\n",
       "      <td>0</td>\n",
       "      <td>1</td>\n",
       "      <td>0</td>\n",
       "      <td>0</td>\n",
       "      <td>0</td>\n",
       "      <td>1</td>\n",
       "      <td>0</td>\n",
       "      <td>0</td>\n",
       "      <td>0</td>\n",
       "      <td>0</td>\n",
       "    </tr>\n",
       "    <tr>\n",
       "      <th>4</th>\n",
       "      <td>1</td>\n",
       "      <td>1</td>\n",
       "      <td>0</td>\n",
       "      <td>0</td>\n",
       "      <td>0</td>\n",
       "      <td>2</td>\n",
       "      <td>0</td>\n",
       "      <td>1</td>\n",
       "      <td>1</td>\n",
       "      <td>0</td>\n",
       "      <td>...</td>\n",
       "      <td>1</td>\n",
       "      <td>1</td>\n",
       "      <td>0</td>\n",
       "      <td>0</td>\n",
       "      <td>0</td>\n",
       "      <td>1</td>\n",
       "      <td>0</td>\n",
       "      <td>0</td>\n",
       "      <td>0</td>\n",
       "      <td>0</td>\n",
       "    </tr>\n",
       "    <tr>\n",
       "      <th>9</th>\n",
       "      <td>0</td>\n",
       "      <td>1</td>\n",
       "      <td>0</td>\n",
       "      <td>0</td>\n",
       "      <td>0</td>\n",
       "      <td>2</td>\n",
       "      <td>0</td>\n",
       "      <td>0</td>\n",
       "      <td>2</td>\n",
       "      <td>0</td>\n",
       "      <td>...</td>\n",
       "      <td>0</td>\n",
       "      <td>1</td>\n",
       "      <td>0</td>\n",
       "      <td>0</td>\n",
       "      <td>0</td>\n",
       "      <td>1</td>\n",
       "      <td>0</td>\n",
       "      <td>0</td>\n",
       "      <td>0</td>\n",
       "      <td>0</td>\n",
       "    </tr>\n",
       "    <tr>\n",
       "      <th>11</th>\n",
       "      <td>1</td>\n",
       "      <td>1</td>\n",
       "      <td>0</td>\n",
       "      <td>0</td>\n",
       "      <td>0</td>\n",
       "      <td>2</td>\n",
       "      <td>0</td>\n",
       "      <td>1</td>\n",
       "      <td>1</td>\n",
       "      <td>0</td>\n",
       "      <td>...</td>\n",
       "      <td>0</td>\n",
       "      <td>1</td>\n",
       "      <td>0</td>\n",
       "      <td>0</td>\n",
       "      <td>0</td>\n",
       "      <td>1</td>\n",
       "      <td>0</td>\n",
       "      <td>0</td>\n",
       "      <td>0</td>\n",
       "      <td>0</td>\n",
       "    </tr>\n",
       "    <tr>\n",
       "      <th>16</th>\n",
       "      <td>1</td>\n",
       "      <td>1</td>\n",
       "      <td>0</td>\n",
       "      <td>0</td>\n",
       "      <td>0</td>\n",
       "      <td>2</td>\n",
       "      <td>0</td>\n",
       "      <td>0</td>\n",
       "      <td>1</td>\n",
       "      <td>0</td>\n",
       "      <td>...</td>\n",
       "      <td>0</td>\n",
       "      <td>1</td>\n",
       "      <td>0</td>\n",
       "      <td>0</td>\n",
       "      <td>0</td>\n",
       "      <td>1</td>\n",
       "      <td>0</td>\n",
       "      <td>0</td>\n",
       "      <td>0</td>\n",
       "      <td>0</td>\n",
       "    </tr>\n",
       "  </tbody>\n",
       "</table>\n",
       "<p>5 rows × 39 columns</p>\n",
       "</div>"
      ],
      "text/plain": [
       "    engage30  init  female_cd  nonwhite_cd  unemplmt_cd  primsev_cd  \\\n",
       "0          1     1          0            0            1           2   \n",
       "4          1     1          0            0            0           2   \n",
       "9          0     1          0            0            0           2   \n",
       "11         1     1          0            0            0           2   \n",
       "16         1     1          0            0            0           2   \n",
       "\n",
       "    prsatx_cd  TRIg_0_cd  TMIg_0_cd  SESg_0_cd  ...  SFSg_0_cd  Raceg4_cd_1  \\\n",
       "0           1          0          1          0  ...          0            1   \n",
       "4           0          1          1          0  ...          1            1   \n",
       "9           0          0          2          0  ...          0            1   \n",
       "11          0          1          1          0  ...          0            1   \n",
       "16          0          0          1          0  ...          0            1   \n",
       "\n",
       "    Raceg4_cd_2  Raceg4_cd_3  Raceg4_cd_4  loc_cd_1  loc_cd_2  loc_cd_3  \\\n",
       "0             0            0            0         1         0         0   \n",
       "4             0            0            0         1         0         0   \n",
       "9             0            0            0         1         0         0   \n",
       "11            0            0            0         1         0         0   \n",
       "16            0            0            0         1         0         0   \n",
       "\n",
       "    loc_cd_6  loc_cd_9  \n",
       "0          0         0  \n",
       "4          0         0  \n",
       "9          0         0  \n",
       "11         0         0  \n",
       "16         0         0  \n",
       "\n",
       "[5 rows x 39 columns]"
      ]
     },
     "execution_count": 113,
     "metadata": {},
     "output_type": "execute_result"
    }
   ],
   "source": [
    "df = pd.read_csv('data_cleaned.csv', index_col=[0])\n",
    "df.drop(columns=['ada_0_cd'], inplace=True) # temporary!!!\n",
    "print(df.shape)\n",
    "df.head()"
   ]
  },
  {
   "cell_type": "markdown",
   "metadata": {},
   "source": [
    "### Split Data by Substance"
   ]
  },
  {
   "cell_type": "code",
   "execution_count": 114,
   "metadata": {},
   "outputs": [
    {
     "name": "stdout",
     "output_type": "stream",
     "text": [
      "Opioids: (933, 38)\n",
      "Stimulants: (4524, 38)\n"
     ]
    }
   ],
   "source": [
    "opioids_mask = df['primsev_cd'] == 5\n",
    "opioids = df[opioids_mask]\n",
    "opioids = opioids.drop(columns=['primsev_cd'])\n",
    "\n",
    "amphetamines_mask = df['primsev_cd'] == 2\n",
    "cocaine_mask = df['primsev_cd'] == 4\n",
    "stimulants = df[amphetamines_mask | cocaine_mask]\n",
    "stimulants = stimulants.drop(columns=['primsev_cd'])\n",
    "\n",
    "print('Opioids:', opioids.shape)\n",
    "print('Stimulants:', stimulants.shape)"
   ]
  },
  {
   "cell_type": "markdown",
   "metadata": {},
   "source": [
    "### Outcome Distribution (percentage)"
   ]
  },
  {
   "cell_type": "code",
   "execution_count": 115,
   "metadata": {},
   "outputs": [
    {
     "data": {
      "text/plain": [
       "1    88.859416\n",
       "0    11.140584\n",
       "Name: init, dtype: float64"
      ]
     },
     "execution_count": 115,
     "metadata": {},
     "output_type": "execute_result"
    }
   ],
   "source": [
    "stimulants['init'].value_counts() / stimulants['init'].shape[0] * 100"
   ]
  },
  {
   "cell_type": "code",
   "execution_count": 116,
   "metadata": {},
   "outputs": [
    {
     "data": {
      "text/plain": [
       "1    88.960343\n",
       "0    11.039657\n",
       "Name: init, dtype: float64"
      ]
     },
     "execution_count": 116,
     "metadata": {},
     "output_type": "execute_result"
    }
   ],
   "source": [
    "opioids['init'].value_counts() / opioids['init'].shape[0] * 100"
   ]
  },
  {
   "cell_type": "code",
   "execution_count": 117,
   "metadata": {},
   "outputs": [
    {
     "data": {
      "text/plain": [
       "1    63.218391\n",
       "0    36.781609\n",
       "Name: engage30, dtype: float64"
      ]
     },
     "execution_count": 117,
     "metadata": {},
     "output_type": "execute_result"
    }
   ],
   "source": [
    "stimulants['engage30'].value_counts() / stimulants['engage30'].shape[0] * 100"
   ]
  },
  {
   "cell_type": "code",
   "execution_count": 118,
   "metadata": {},
   "outputs": [
    {
     "data": {
      "text/plain": [
       "1    70.418006\n",
       "0    29.581994\n",
       "Name: engage30, dtype: float64"
      ]
     },
     "execution_count": 118,
     "metadata": {},
     "output_type": "execute_result"
    }
   ],
   "source": [
    "opioids['engage30'].value_counts() / opioids['engage30'].shape[0] * 100"
   ]
  },
  {
   "cell_type": "markdown",
   "metadata": {},
   "source": [
    "### Modelling"
   ]
  },
  {
   "cell_type": "code",
   "execution_count": 119,
   "metadata": {},
   "outputs": [],
   "source": [
    "def run_model(model, data, grouping, outcome):\n",
    "    X = data.drop(columns=[outcome])\n",
    "    y = data[outcome]\n",
    "    \n",
    "    X_train, X_test, y_train, y_test = train_test_split(X, y, test_size=0.33)\n",
    "    print(\"X_train:\", X_train.shape, \"X_test:\", X_test.shape, \"y_train:\", y_train.shape, \"y_test:\", y_test.shape)    \n",
    "    \n",
    "    res = cross_validate(model, X_train, y_train, return_estimator=True, cv=5)\n",
    "    top_model_ind = list(res['test_score']).index(max(list(res['test_score'])))\n",
    "    model = res['estimator'][top_model_ind]\n",
    "    \n",
    "    y_pred = model.predict(X_test)\n",
    "\n",
    "    accuracy = metrics.accuracy_score(y_test, y_pred)\n",
    "    f1 = metrics.f1_score(y_test, y_pred)\n",
    "    precision = metrics.precision_score(y_test, y_pred)\n",
    "    recall = metrics.recall_score(y_test, y_pred)\n",
    "\n",
    "    # https://towardsdatascience.com/accuracy-precision-recall-or-f1-331fb37c5cb9\n",
    "    print(\"Accuracy:\", accuracy)\n",
    "    print(\"F1:\", f1)\n",
    "    print(\"Precision:\", precision)\n",
    "    print(\"Recall:\", recall)\n",
    "    \n",
    "    try:\n",
    "        # random forest\n",
    "        feature_importance = model.feature_importances_ \n",
    "        label = \"RF \" + grouping + \" \" + outcome\n",
    "    except AttributeError:\n",
    "        # logistic regression\n",
    "        feature_importance = np.exp(model.coef_[0]) # hazard ratios\n",
    "        label = \"LR \" + grouping + \" \" + outcome\n",
    "    \n",
    "    ns_probs = [0 for _ in range(len(y_test))]\n",
    "    lr_probs = model.predict_proba(X_test)\n",
    "    # keep probabilities for the positive outcome only\n",
    "    lr_probs = lr_probs[:, 1]\n",
    "    # calculate scores\n",
    "    lr_auc = metrics.roc_auc_score(y_test, lr_probs)\n",
    "    # summarize scores\n",
    "    print('AUC: %.3f' % (lr_auc))\n",
    "    # calculate roc curves\n",
    "    ns_fpr, ns_tpr, _ = metrics.roc_curve(y_test, ns_probs)\n",
    "    lr_fpr, lr_tpr, _ = metrics.roc_curve(y_test, lr_probs)\n",
    "    # plot the roc curve for the model\n",
    "    pyplot.plot(ns_fpr, ns_tpr, linestyle='--', label='No Skill')\n",
    "    pyplot.plot(lr_fpr, lr_tpr, marker='.', label='Logistic')\n",
    "    # axis labels\n",
    "    pyplot.xlabel('False Positive Rate')\n",
    "    pyplot.ylabel('True Positive Rate')\n",
    "    pyplot.title(label)\n",
    "    # show the legend\n",
    "    pyplot.legend()\n",
    "    # show the plot\n",
    "    pyplot.show()\n",
    "    \n",
    "    features = X.columns\n",
    "    feature_importance_df = pd.DataFrame({\"feature\": features, label: feature_importance})\n",
    "    feature_importance_df = feature_importance_df.set_index('feature')\n",
    "    return feature_importance_df"
   ]
  },
  {
   "cell_type": "code",
   "execution_count": 120,
   "metadata": {},
   "outputs": [],
   "source": [
    "def get_logistic_regression_features(X):\n",
    "    # one-hot encode all variables (except binary vars) to get hazards across groups, drop reference group\n",
    "    result = X.copy()\n",
    "    outcomes = [\"init\", \"engage30\", \"ada_0_cd\"] # ada_0_cd is continuous\n",
    "    \n",
    "    for col in result.columns:\n",
    "        if not np.isin(result[col], [0, 1]).all() and col not in outcomes: # if non-binary and not an outcome\n",
    "            one_hot = pd.get_dummies(result[col], prefix=col)\n",
    "            one_hot = one_hot.loc[:, ~one_hot.columns.str.endswith('1')] # drop group and use as reference\n",
    "            result = result.drop(col,axis = 1)\n",
    "            result = result.join(one_hot)\n",
    "    #print('Logistic Regression Features:',lasso_X.columns)\n",
    "    return result"
   ]
  },
  {
   "cell_type": "code",
   "execution_count": 121,
   "metadata": {},
   "outputs": [],
   "source": [
    "opioids_engage30 = opioids.drop(columns=['init'])\n",
    "opioids_init = opioids.drop(columns=['engage30'])\n",
    "stimulants_engage30 = stimulants.drop(columns=['init'])\n",
    "stimulants_init = stimulants.drop(columns=['engage30'])"
   ]
  },
  {
   "cell_type": "code",
   "execution_count": 122,
   "metadata": {},
   "outputs": [],
   "source": [
    "features_random_forest = list(opioids_engage30.columns)\n",
    "features_random_forest.remove('engage30')\n",
    "feature_importance_random_forest = pd.DataFrame({\"feature\": features_random_forest})\n",
    "feature_importance_random_forest = feature_importance_random_forest.set_index('feature')\n",
    "\n",
    "\n",
    "features_logistic_regression = list(get_logistic_regression_features(opioids_engage30).columns)\n",
    "features_logistic_regression.remove('engage30')\n",
    "feature_importance_logistic_regression = pd.DataFrame({\"feature\": features_logistic_regression})\n",
    "feature_importance_logistic_regression = feature_importance_logistic_regression.set_index('feature')"
   ]
  },
  {
   "cell_type": "code",
   "execution_count": 123,
   "metadata": {},
   "outputs": [
    {
     "name": "stdout",
     "output_type": "stream",
     "text": [
      "X_train: (3031, 36) X_test: (1493, 36) y_train: (3031,) y_test: (1493,)\n",
      "Accuracy: 0.8868050904219692\n",
      "F1: 0.9399217916814788\n",
      "Precision: 0.8896366083445492\n",
      "Recall: 0.9962321024868124\n",
      "AUC: 0.691\n"
     ]
    },
    {
     "data": {
      "image/png": "[encoded data removed]",
      "text/plain": [
       "<Figure size 432x288 with 1 Axes>"
      ]
     },
     "metadata": {
      "needs_background": "light"
     },
     "output_type": "display_data"
    }
   ],
   "source": [
    "random_forest_stimulants_init = run_model(RandomForestClassifier(), stimulants_init, 'stimulants', 'init')\n",
    "feature_importance_random_forest = feature_importance_random_forest.join(random_forest_stimulants_init)"
   ]
  },
  {
   "cell_type": "code",
   "execution_count": 124,
   "metadata": {},
   "outputs": [
    {
     "name": "stdout",
     "output_type": "stream",
     "text": [
      "X_train: (3031, 52) X_test: (1493, 52) y_train: (3031,) y_test: (1493,)\n",
      "Accuracy: 0.8881446751507033\n",
      "F1: 0.9406749555950267\n",
      "Precision: 0.8879946344735077\n",
      "Recall: 1.0\n",
      "AUC: 0.682\n"
     ]
    },
    {
     "data": {
      "image/png": "[encoded data removed]",
      "text/plain": [
       "<Figure size 432x288 with 1 Axes>"
      ]
     },
     "metadata": {
      "needs_background": "light"
     },
     "output_type": "display_data"
    }
   ],
   "source": [
    "stimulants_init_logistic_regression = get_logistic_regression_features(stimulants_init)\n",
    "\n",
    "logistic_regression_stimulants_init = run_model(LogisticRegression(max_iter=1000), stimulants_init_logistic_regression, 'stimulants', 'init')\n",
    "feature_importance_logistic_regression = feature_importance_logistic_regression.join(logistic_regression_stimulants_init)"
   ]
  },
  {
   "cell_type": "code",
   "execution_count": 125,
   "metadata": {},
   "outputs": [
    {
     "name": "stdout",
     "output_type": "stream",
     "text": [
      "X_train: (625, 36) X_test: (308, 36) y_train: (625,) y_test: (308,)\n",
      "Accuracy: 0.8896103896103896\n",
      "F1: 0.9415807560137456\n",
      "Precision: 0.8925081433224755\n",
      "Recall: 0.9963636363636363\n",
      "AUC: 0.619\n"
     ]
    },
    {
     "data": {
      "image/png": "[encoded data removed]",
      "text/plain": [
       "<Figure size 432x288 with 1 Axes>"
      ]
     },
     "metadata": {
      "needs_background": "light"
     },
     "output_type": "display_data"
    }
   ],
   "source": [
    "random_forest_opioids_init = run_model(RandomForestClassifier(), opioids_init, 'opioids', 'init')\n",
    "feature_importance_random_forest = feature_importance_random_forest.join(random_forest_opioids_init)"
   ]
  },
  {
   "cell_type": "code",
   "execution_count": 126,
   "metadata": {},
   "outputs": [
    {
     "name": "stdout",
     "output_type": "stream",
     "text": [
      "X_train: (625, 52) X_test: (308, 52) y_train: (625,) y_test: (308,)\n",
      "Accuracy: 0.8993506493506493\n",
      "F1: 0.9466437177280551\n",
      "Precision: 0.9166666666666666\n",
      "Recall: 0.9786476868327402\n",
      "AUC: 0.704\n"
     ]
    },
    {
     "data": {
      "image/png": "[encoded data removed]",
      "text/plain": [
       "<Figure size 432x288 with 1 Axes>"
      ]
     },
     "metadata": {
      "needs_background": "light"
     },
     "output_type": "display_data"
    }
   ],
   "source": [
    "opioids_init_logistic_regression = get_logistic_regression_features(opioids_init)\n",
    "\n",
    "logistic_regression_opioids_init = run_model(LogisticRegression(max_iter=1000), opioids_init_logistic_regression, 'opioids', 'init')\n",
    "feature_importance_logistic_regression = feature_importance_logistic_regression.join(logistic_regression_opioids_init)"
   ]
  },
  {
   "cell_type": "code",
   "execution_count": 127,
   "metadata": {},
   "outputs": [
    {
     "name": "stdout",
     "output_type": "stream",
     "text": [
      "X_train: (3031, 36) X_test: (1493, 36) y_train: (3031,) y_test: (1493,)\n",
      "Accuracy: 0.6543871399866041\n",
      "F1: 0.7628676470588235\n",
      "Precision: 0.6720647773279352\n",
      "Recall: 0.8820403825717322\n",
      "AUC: 0.620\n"
     ]
    },
    {
     "data": {
      "image/png": "[encoded data removed]",
      "text/plain": [
       "<Figure size 432x288 with 1 Axes>"
      ]
     },
     "metadata": {
      "needs_background": "light"
     },
     "output_type": "display_data"
    }
   ],
   "source": [
    "random_forest_stimulants_engage30 = run_model(RandomForestClassifier(), stimulants_engage30, 'stimulants', 'engage30')\n",
    "feature_importance_random_forest = feature_importance_random_forest.join(random_forest_stimulants_engage30)"
   ]
  },
  {
   "cell_type": "code",
   "execution_count": 128,
   "metadata": {},
   "outputs": [
    {
     "name": "stdout",
     "output_type": "stream",
     "text": [
      "X_train: (3031, 52) X_test: (1493, 52) y_train: (3031,) y_test: (1493,)\n",
      "Accuracy: 0.6403215003348962\n",
      "F1: 0.7560199909132213\n",
      "Precision: 0.6566692975532754\n",
      "Recall: 0.8907922912205567\n",
      "AUC: 0.596\n"
     ]
    },
    {
     "data": {
      "image/png": "[encoded data removed]",
      "text/plain": [
       "<Figure size 432x288 with 1 Axes>"
      ]
     },
     "metadata": {
      "needs_background": "light"
     },
     "output_type": "display_data"
    }
   ],
   "source": [
    "stimulants_engage30_logistic_regression = get_logistic_regression_features(stimulants_engage30)\n",
    "\n",
    "logistic_regression_stimulants_engage30 = run_model(LogisticRegression(max_iter=1000), stimulants_engage30_logistic_regression, 'stimulants', 'engage30')\n",
    "feature_importance_logistic_regression = feature_importance_logistic_regression.join(logistic_regression_stimulants_engage30)"
   ]
  },
  {
   "cell_type": "code",
   "execution_count": 129,
   "metadata": {},
   "outputs": [
    {
     "name": "stdout",
     "output_type": "stream",
     "text": [
      "X_train: (625, 36) X_test: (308, 36) y_train: (625,) y_test: (308,)\n",
      "Accuracy: 0.6818181818181818\n",
      "F1: 0.7949790794979079\n",
      "Precision: 0.7251908396946565\n",
      "Recall: 0.8796296296296297\n",
      "AUC: 0.605\n"
     ]
    },
    {
     "data": {
      "image/png": "[encoded data removed]",
      "text/plain": [
       "<Figure size 432x288 with 1 Axes>"
      ]
     },
     "metadata": {
      "needs_background": "light"
     },
     "output_type": "display_data"
    }
   ],
   "source": [
    "random_forest_opioids_engage30 = run_model(RandomForestClassifier(), opioids_engage30, 'opioids', 'engage30')\n",
    "feature_importance_random_forest = feature_importance_random_forest.join(random_forest_opioids_engage30)"
   ]
  },
  {
   "cell_type": "code",
   "execution_count": 130,
   "metadata": {},
   "outputs": [
    {
     "name": "stdout",
     "output_type": "stream",
     "text": [
      "X_train: (625, 52) X_test: (308, 52) y_train: (625,) y_test: (308,)\n",
      "Accuracy: 0.7077922077922078\n",
      "F1: 0.8170731707317074\n",
      "Precision: 0.7335766423357665\n",
      "Recall: 0.9220183486238532\n",
      "AUC: 0.640\n"
     ]
    },
    {
     "data": {
      "image/png": "[encoded data removed]",
      "text/plain": [
       "<Figure size 432x288 with 1 Axes>"
      ]
     },
     "metadata": {
      "needs_background": "light"
     },
     "output_type": "display_data"
    }
   ],
   "source": [
    "opioids_engage30_logistic_regression = get_logistic_regression_features(opioids_engage30)\n",
    "\n",
    "logistic_regression_opioids_engage30 = run_model(LogisticRegression(max_iter=1000), opioids_engage30_logistic_regression, 'opioids', 'engage30')\n",
    "feature_importance_logistic_regression = feature_importance_logistic_regression.join(logistic_regression_opioids_engage30)"
   ]
  },
  {
   "cell_type": "markdown",
   "metadata": {},
   "source": [
    "### Feature Importance Analysis"
   ]
  },
  {
   "cell_type": "code",
   "execution_count": 131,
   "metadata": {},
   "outputs": [],
   "source": [
    "def func(row, groups):\n",
    "    result = 0\n",
    "    for group in groups:\n",
    "        result += abs(row[group])\n",
    "    return result\n",
    "\n",
    "feature_importance_random_forest['abs sum'] = feature_importance_random_forest.apply(lambda row: func(row, feature_importance_random_forest.columns), axis=1)\n",
    "feature_importance_random_forest = feature_importance_random_forest.sort_values(by='abs sum', ascending=False)\n",
    "\n",
    "feature_importance_logistic_regression['abs sum'] = feature_importance_logistic_regression.apply(lambda row: func(row, feature_importance_logistic_regression.columns), axis=1)\n",
    "feature_importance_logistic_regression = feature_importance_logistic_regression.sort_values(by='abs sum', ascending=False)"
   ]
  },
  {
   "cell_type": "code",
   "execution_count": 132,
   "metadata": {},
   "outputs": [
    {
     "data": {
      "text/html": [
       "<div>\n",
       "<style scoped>\n",
       "    .dataframe tbody tr th:only-of-type {\n",
       "        vertical-align: middle;\n",
       "    }\n",
       "\n",
       "    .dataframe tbody tr th {\n",
       "        vertical-align: top;\n",
       "    }\n",
       "\n",
       "    .dataframe thead th {\n",
       "        text-align: right;\n",
       "    }\n",
       "</style>\n",
       "<table border=\"1\" class=\"dataframe\">\n",
       "  <thead>\n",
       "    <tr style=\"text-align: right;\">\n",
       "      <th></th>\n",
       "      <th>RF stimulants init</th>\n",
       "      <th>RF opioids init</th>\n",
       "      <th>RF stimulants engage30</th>\n",
       "      <th>RF opioids engage30</th>\n",
       "      <th>abs sum</th>\n",
       "    </tr>\n",
       "    <tr>\n",
       "      <th>feature</th>\n",
       "      <th></th>\n",
       "      <th></th>\n",
       "      <th></th>\n",
       "      <th></th>\n",
       "      <th></th>\n",
       "    </tr>\n",
       "  </thead>\n",
       "  <tbody>\n",
       "    <tr>\n",
       "      <th>cjsig_0_cd</th>\n",
       "      <td>0.052517</td>\n",
       "      <td>0.048274</td>\n",
       "      <td>0.044891</td>\n",
       "      <td>0.048703</td>\n",
       "      <td>0.194385</td>\n",
       "    </tr>\n",
       "    <tr>\n",
       "      <th>SFSg_0_cd</th>\n",
       "      <td>0.038567</td>\n",
       "      <td>0.046523</td>\n",
       "      <td>0.039247</td>\n",
       "      <td>0.070018</td>\n",
       "      <td>0.194353</td>\n",
       "    </tr>\n",
       "    <tr>\n",
       "      <th>gcsg_0_cd</th>\n",
       "      <td>0.044396</td>\n",
       "      <td>0.047158</td>\n",
       "      <td>0.040869</td>\n",
       "      <td>0.042850</td>\n",
       "      <td>0.175273</td>\n",
       "    </tr>\n",
       "    <tr>\n",
       "      <th>TMIg_0_cd</th>\n",
       "      <td>0.044385</td>\n",
       "      <td>0.050201</td>\n",
       "      <td>0.041951</td>\n",
       "      <td>0.035242</td>\n",
       "      <td>0.171778</td>\n",
       "    </tr>\n",
       "    <tr>\n",
       "      <th>adhdg_0_cd</th>\n",
       "      <td>0.044135</td>\n",
       "      <td>0.047865</td>\n",
       "      <td>0.040220</td>\n",
       "      <td>0.039052</td>\n",
       "      <td>0.171273</td>\n",
       "    </tr>\n",
       "  </tbody>\n",
       "</table>\n",
       "</div>"
      ],
      "text/plain": [
       "            RF stimulants init  RF opioids init  RF stimulants engage30  \\\n",
       "feature                                                                   \n",
       "cjsig_0_cd            0.052517         0.048274                0.044891   \n",
       "SFSg_0_cd             0.038567         0.046523                0.039247   \n",
       "gcsg_0_cd             0.044396         0.047158                0.040869   \n",
       "TMIg_0_cd             0.044385         0.050201                0.041951   \n",
       "adhdg_0_cd            0.044135         0.047865                0.040220   \n",
       "\n",
       "            RF opioids engage30   abs sum  \n",
       "feature                                    \n",
       "cjsig_0_cd             0.048703  0.194385  \n",
       "SFSg_0_cd              0.070018  0.194353  \n",
       "gcsg_0_cd              0.042850  0.175273  \n",
       "TMIg_0_cd              0.035242  0.171778  \n",
       "adhdg_0_cd             0.039052  0.171273  "
      ]
     },
     "execution_count": 132,
     "metadata": {},
     "output_type": "execute_result"
    }
   ],
   "source": [
    "feature_importance_random_forest.head() "
   ]
  },
  {
   "cell_type": "code",
   "execution_count": 133,
   "metadata": {},
   "outputs": [
    {
     "data": {
      "text/html": [
       "<div>\n",
       "<style scoped>\n",
       "    .dataframe tbody tr th:only-of-type {\n",
       "        vertical-align: middle;\n",
       "    }\n",
       "\n",
       "    .dataframe tbody tr th {\n",
       "        vertical-align: top;\n",
       "    }\n",
       "\n",
       "    .dataframe thead th {\n",
       "        text-align: right;\n",
       "    }\n",
       "</style>\n",
       "<table border=\"1\" class=\"dataframe\">\n",
       "  <thead>\n",
       "    <tr style=\"text-align: right;\">\n",
       "      <th></th>\n",
       "      <th>LR stimulants init</th>\n",
       "      <th>LR opioids init</th>\n",
       "      <th>LR stimulants engage30</th>\n",
       "      <th>LR opioids engage30</th>\n",
       "      <th>abs sum</th>\n",
       "    </tr>\n",
       "    <tr>\n",
       "      <th>feature</th>\n",
       "      <th></th>\n",
       "      <th></th>\n",
       "      <th></th>\n",
       "      <th></th>\n",
       "      <th></th>\n",
       "    </tr>\n",
       "  </thead>\n",
       "  <tbody>\n",
       "    <tr>\n",
       "      <th>loc_cd_1</th>\n",
       "      <td>4.010776</td>\n",
       "      <td>2.667209</td>\n",
       "      <td>1.297580</td>\n",
       "      <td>0.572800</td>\n",
       "      <td>8.548366</td>\n",
       "    </tr>\n",
       "    <tr>\n",
       "      <th>CWSg_0_cd_2</th>\n",
       "      <td>4.274559</td>\n",
       "      <td>1.515337</td>\n",
       "      <td>0.893948</td>\n",
       "      <td>0.929257</td>\n",
       "      <td>7.613100</td>\n",
       "    </tr>\n",
       "    <tr>\n",
       "      <th>dldiag_cd</th>\n",
       "      <td>1.275755</td>\n",
       "      <td>2.686665</td>\n",
       "      <td>1.194246</td>\n",
       "      <td>1.857169</td>\n",
       "      <td>7.013834</td>\n",
       "    </tr>\n",
       "    <tr>\n",
       "      <th>adhdg_0_cd_0</th>\n",
       "      <td>1.384033</td>\n",
       "      <td>1.825633</td>\n",
       "      <td>1.224525</td>\n",
       "      <td>1.455413</td>\n",
       "      <td>5.889604</td>\n",
       "    </tr>\n",
       "    <tr>\n",
       "      <th>TRIg_0_cd_0</th>\n",
       "      <td>1.385317</td>\n",
       "      <td>2.136414</td>\n",
       "      <td>1.114330</td>\n",
       "      <td>0.939266</td>\n",
       "      <td>5.575327</td>\n",
       "    </tr>\n",
       "    <tr>\n",
       "      <th>loc_cd_9</th>\n",
       "      <td>0.476615</td>\n",
       "      <td>0.521861</td>\n",
       "      <td>2.075363</td>\n",
       "      <td>2.495880</td>\n",
       "      <td>5.569719</td>\n",
       "    </tr>\n",
       "    <tr>\n",
       "      <th>TRIg_0_cd_2</th>\n",
       "      <td>1.649525</td>\n",
       "      <td>0.954259</td>\n",
       "      <td>1.419190</td>\n",
       "      <td>1.531622</td>\n",
       "      <td>5.554596</td>\n",
       "    </tr>\n",
       "    <tr>\n",
       "      <th>lrig_0_cd_0</th>\n",
       "      <td>1.326750</td>\n",
       "      <td>1.472929</td>\n",
       "      <td>0.773050</td>\n",
       "      <td>1.681729</td>\n",
       "      <td>5.254458</td>\n",
       "    </tr>\n",
       "    <tr>\n",
       "      <th>homeless_0_cd</th>\n",
       "      <td>1.515275</td>\n",
       "      <td>1.477952</td>\n",
       "      <td>1.201564</td>\n",
       "      <td>1.048173</td>\n",
       "      <td>5.242964</td>\n",
       "    </tr>\n",
       "    <tr>\n",
       "      <th>S9y10_cd_2</th>\n",
       "      <td>1.684831</td>\n",
       "      <td>1.110719</td>\n",
       "      <td>0.573843</td>\n",
       "      <td>1.761015</td>\n",
       "      <td>5.130408</td>\n",
       "    </tr>\n",
       "  </tbody>\n",
       "</table>\n",
       "</div>"
      ],
      "text/plain": [
       "               LR stimulants init  LR opioids init  LR stimulants engage30  \\\n",
       "feature                                                                      \n",
       "loc_cd_1                 4.010776         2.667209                1.297580   \n",
       "CWSg_0_cd_2              4.274559         1.515337                0.893948   \n",
       "dldiag_cd                1.275755         2.686665                1.194246   \n",
       "adhdg_0_cd_0             1.384033         1.825633                1.224525   \n",
       "TRIg_0_cd_0              1.385317         2.136414                1.114330   \n",
       "loc_cd_9                 0.476615         0.521861                2.075363   \n",
       "TRIg_0_cd_2              1.649525         0.954259                1.419190   \n",
       "lrig_0_cd_0              1.326750         1.472929                0.773050   \n",
       "homeless_0_cd            1.515275         1.477952                1.201564   \n",
       "S9y10_cd_2               1.684831         1.110719                0.573843   \n",
       "\n",
       "               LR opioids engage30   abs sum  \n",
       "feature                                       \n",
       "loc_cd_1                  0.572800  8.548366  \n",
       "CWSg_0_cd_2               0.929257  7.613100  \n",
       "dldiag_cd                 1.857169  7.013834  \n",
       "adhdg_0_cd_0              1.455413  5.889604  \n",
       "TRIg_0_cd_0               0.939266  5.575327  \n",
       "loc_cd_9                  2.495880  5.569719  \n",
       "TRIg_0_cd_2               1.531622  5.554596  \n",
       "lrig_0_cd_0               1.681729  5.254458  \n",
       "homeless_0_cd             1.048173  5.242964  \n",
       "S9y10_cd_2                1.761015  5.130408  "
      ]
     },
     "execution_count": 133,
     "metadata": {},
     "output_type": "execute_result"
    }
   ],
   "source": [
    "feature_importance_logistic_regression.head(10) "
   ]
  },
  {
   "cell_type": "code",
   "execution_count": 134,
   "metadata": {},
   "outputs": [],
   "source": [
    "# Create a Pandas Excel writer using XlsxWriter as the engine.\n",
    "writer = pd.ExcelWriter('feature_importance.xlsx', engine='xlsxwriter')\n",
    "\n",
    "# Write each dataframe to a different worksheet.\n",
    "feature_importance_random_forest.to_excel(writer, sheet_name='Random Forest')\n",
    "feature_importance_logistic_regression.to_excel(writer, sheet_name='Logistic Regression')\n",
    "\n",
    "# Close the Pandas Excel writer and output the Excel file.\n",
    "writer.save()"
   ]
  },
  {
   "cell_type": "code",
   "execution_count": 135,
   "metadata": {},
   "outputs": [
    {
     "name": "stdout",
     "output_type": "stream",
     "text": [
      "--- 0 minutes 12 seconds ---\n"
     ]
    }
   ],
   "source": [
    "total_seconds = int(time.time() - start_time)\n",
    "hours = total_seconds // (60 * 60)\n",
    "minutes = (total_seconds - hours*60) // 60\n",
    "seconds = (total_seconds - hours*60) % 60\n",
    "print(\"--- \" + str(minutes) + \" minutes \" + str(seconds) + \" seconds ---\")"
   ]
  },
  {
   "cell_type": "code",
   "execution_count": 136,
   "metadata": {},
   "outputs": [],
   "source": [
    "# notes\n",
    "\n",
    "# distribution of engage30 is better (~60% positive rate) than init (~90% positive rate)\n",
    "# based on the low coefficients for all the features for init predictions it looks like the \n",
    "#   model is always predicting the same thing\n",
    "# engage30 dominates feature importance"
   ]
  }
 ],
 "metadata": {
  "kernelspec": {
   "display_name": "Python 3",
   "language": "python",
   "name": "python3"
  },
  "language_info": {
   "codemirror_mode": {
    "name": "ipython",
    "version": 3
   },
   "file_extension": ".py",
   "mimetype": "text/x-python",
   "name": "python",
   "nbconvert_exporter": "python",
   "pygments_lexer": "ipython3",
   "version": "3.7.3"
  }
 },
 "nbformat": 4,
 "nbformat_minor": 2
}

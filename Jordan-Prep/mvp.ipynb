{
 "cells": [
  {
   "cell_type": "code",
   "execution_count": 415,
   "metadata": {},
   "outputs": [],
   "source": [
    "import time\n",
    "import pandas as pd\n",
    "import numpy as np\n",
    "from sklearn.linear_model import LogisticRegression\n",
    "from sklearn.model_selection import train_test_split, cross_validate\n",
    "from sklearn.ensemble import RandomForestClassifier\n",
    "from sklearn import metrics\n",
    "import numpy as np\n",
    "from matplotlib import pyplot\n",
    "np.random.seed(2017) # set random seed value to get reproducible results"
   ]
  },
  {
   "cell_type": "code",
   "execution_count": 416,
   "metadata": {},
   "outputs": [],
   "source": [
    "# store start time to get execution time of entire script\n",
    "start_time = time.time()"
   ]
  },
  {
   "cell_type": "markdown",
   "metadata": {},
   "source": [
    "### Load Data"
   ]
  },
  {
   "cell_type": "code",
   "execution_count": 417,
   "metadata": {},
   "outputs": [
    {
     "name": "stdout",
     "output_type": "stream",
     "text": [
      "(5458, 39)\n"
     ]
    },
    {
     "data": {
      "text/html": [
       "<div>\n",
       "<style scoped>\n",
       "    .dataframe tbody tr th:only-of-type {\n",
       "        vertical-align: middle;\n",
       "    }\n",
       "\n",
       "    .dataframe tbody tr th {\n",
       "        vertical-align: top;\n",
       "    }\n",
       "\n",
       "    .dataframe thead th {\n",
       "        text-align: right;\n",
       "    }\n",
       "</style>\n",
       "<table border=\"1\" class=\"dataframe\">\n",
       "  <thead>\n",
       "    <tr style=\"text-align: right;\">\n",
       "      <th></th>\n",
       "      <th>engage30</th>\n",
       "      <th>init</th>\n",
       "      <th>female_cd</th>\n",
       "      <th>nonwhite_cd</th>\n",
       "      <th>unemplmt_cd</th>\n",
       "      <th>primsev_cd</th>\n",
       "      <th>prsatx_cd</th>\n",
       "      <th>TRIg_0_cd</th>\n",
       "      <th>TMIg_0_cd</th>\n",
       "      <th>SESg_0_cd</th>\n",
       "      <th>gvsg_cd</th>\n",
       "      <th>tsd_0_cd</th>\n",
       "      <th>und15_cd</th>\n",
       "      <th>CWSg_0_cd</th>\n",
       "      <th>srprobg_cd</th>\n",
       "      <th>S9y10_cd</th>\n",
       "      <th>dldiag_cd</th>\n",
       "      <th>dssg_0_cd</th>\n",
       "      <th>epsg_0_cd</th>\n",
       "      <th>adhdg_0_cd</th>\n",
       "      <th>cdsg_0_cd</th>\n",
       "      <th>suicprbs_0_cd</th>\n",
       "      <th>cjsig_0_cd</th>\n",
       "      <th>lrig_0_cd</th>\n",
       "      <th>srig_0_cd</th>\n",
       "      <th>homeless_0_cd</th>\n",
       "      <th>S6_cd</th>\n",
       "      <th>gcsg_0_cd</th>\n",
       "      <th>ncar_cd</th>\n",
       "      <th>ada_0_cd</th>\n",
       "      <th>Raceg4_cd_1</th>\n",
       "      <th>Raceg4_cd_2</th>\n",
       "      <th>Raceg4_cd_3</th>\n",
       "      <th>Raceg4_cd_4</th>\n",
       "      <th>loc_cd_1</th>\n",
       "      <th>loc_cd_2</th>\n",
       "      <th>loc_cd_3</th>\n",
       "      <th>loc_cd_6</th>\n",
       "      <th>loc_cd_9</th>\n",
       "    </tr>\n",
       "  </thead>\n",
       "  <tbody>\n",
       "    <tr>\n",
       "      <th>0</th>\n",
       "      <td>1</td>\n",
       "      <td>1</td>\n",
       "      <td>0</td>\n",
       "      <td>0</td>\n",
       "      <td>1</td>\n",
       "      <td>2</td>\n",
       "      <td>1</td>\n",
       "      <td>0</td>\n",
       "      <td>1</td>\n",
       "      <td>0</td>\n",
       "      <td>2</td>\n",
       "      <td>1</td>\n",
       "      <td>1</td>\n",
       "      <td>0</td>\n",
       "      <td>1</td>\n",
       "      <td>2</td>\n",
       "      <td>1</td>\n",
       "      <td>2</td>\n",
       "      <td>1</td>\n",
       "      <td>2</td>\n",
       "      <td>1</td>\n",
       "      <td>0</td>\n",
       "      <td>1</td>\n",
       "      <td>1</td>\n",
       "      <td>1</td>\n",
       "      <td>0</td>\n",
       "      <td>0</td>\n",
       "      <td>0</td>\n",
       "      <td>0</td>\n",
       "      <td>90</td>\n",
       "      <td>1</td>\n",
       "      <td>0</td>\n",
       "      <td>0</td>\n",
       "      <td>0</td>\n",
       "      <td>1</td>\n",
       "      <td>0</td>\n",
       "      <td>0</td>\n",
       "      <td>0</td>\n",
       "      <td>0</td>\n",
       "    </tr>\n",
       "    <tr>\n",
       "      <th>4</th>\n",
       "      <td>1</td>\n",
       "      <td>1</td>\n",
       "      <td>0</td>\n",
       "      <td>0</td>\n",
       "      <td>0</td>\n",
       "      <td>2</td>\n",
       "      <td>0</td>\n",
       "      <td>1</td>\n",
       "      <td>1</td>\n",
       "      <td>0</td>\n",
       "      <td>0</td>\n",
       "      <td>0</td>\n",
       "      <td>1</td>\n",
       "      <td>0</td>\n",
       "      <td>0</td>\n",
       "      <td>8</td>\n",
       "      <td>0</td>\n",
       "      <td>1</td>\n",
       "      <td>0</td>\n",
       "      <td>0</td>\n",
       "      <td>1</td>\n",
       "      <td>0</td>\n",
       "      <td>1</td>\n",
       "      <td>2</td>\n",
       "      <td>1</td>\n",
       "      <td>1</td>\n",
       "      <td>0</td>\n",
       "      <td>1</td>\n",
       "      <td>1</td>\n",
       "      <td>74</td>\n",
       "      <td>1</td>\n",
       "      <td>0</td>\n",
       "      <td>0</td>\n",
       "      <td>0</td>\n",
       "      <td>1</td>\n",
       "      <td>0</td>\n",
       "      <td>0</td>\n",
       "      <td>0</td>\n",
       "      <td>0</td>\n",
       "    </tr>\n",
       "    <tr>\n",
       "      <th>9</th>\n",
       "      <td>0</td>\n",
       "      <td>1</td>\n",
       "      <td>0</td>\n",
       "      <td>0</td>\n",
       "      <td>0</td>\n",
       "      <td>2</td>\n",
       "      <td>0</td>\n",
       "      <td>0</td>\n",
       "      <td>2</td>\n",
       "      <td>0</td>\n",
       "      <td>0</td>\n",
       "      <td>0</td>\n",
       "      <td>1</td>\n",
       "      <td>0</td>\n",
       "      <td>0</td>\n",
       "      <td>8</td>\n",
       "      <td>0</td>\n",
       "      <td>0</td>\n",
       "      <td>1</td>\n",
       "      <td>0</td>\n",
       "      <td>0</td>\n",
       "      <td>0</td>\n",
       "      <td>0</td>\n",
       "      <td>1</td>\n",
       "      <td>1</td>\n",
       "      <td>0</td>\n",
       "      <td>0</td>\n",
       "      <td>0</td>\n",
       "      <td>1</td>\n",
       "      <td>90</td>\n",
       "      <td>1</td>\n",
       "      <td>0</td>\n",
       "      <td>0</td>\n",
       "      <td>0</td>\n",
       "      <td>1</td>\n",
       "      <td>0</td>\n",
       "      <td>0</td>\n",
       "      <td>0</td>\n",
       "      <td>0</td>\n",
       "    </tr>\n",
       "    <tr>\n",
       "      <th>11</th>\n",
       "      <td>1</td>\n",
       "      <td>1</td>\n",
       "      <td>0</td>\n",
       "      <td>0</td>\n",
       "      <td>0</td>\n",
       "      <td>2</td>\n",
       "      <td>0</td>\n",
       "      <td>1</td>\n",
       "      <td>1</td>\n",
       "      <td>0</td>\n",
       "      <td>2</td>\n",
       "      <td>0</td>\n",
       "      <td>1</td>\n",
       "      <td>0</td>\n",
       "      <td>1</td>\n",
       "      <td>1</td>\n",
       "      <td>1</td>\n",
       "      <td>1</td>\n",
       "      <td>2</td>\n",
       "      <td>2</td>\n",
       "      <td>1</td>\n",
       "      <td>0</td>\n",
       "      <td>2</td>\n",
       "      <td>1</td>\n",
       "      <td>1</td>\n",
       "      <td>0</td>\n",
       "      <td>0</td>\n",
       "      <td>0</td>\n",
       "      <td>0</td>\n",
       "      <td>90</td>\n",
       "      <td>1</td>\n",
       "      <td>0</td>\n",
       "      <td>0</td>\n",
       "      <td>0</td>\n",
       "      <td>1</td>\n",
       "      <td>0</td>\n",
       "      <td>0</td>\n",
       "      <td>0</td>\n",
       "      <td>0</td>\n",
       "    </tr>\n",
       "    <tr>\n",
       "      <th>16</th>\n",
       "      <td>1</td>\n",
       "      <td>1</td>\n",
       "      <td>0</td>\n",
       "      <td>0</td>\n",
       "      <td>0</td>\n",
       "      <td>2</td>\n",
       "      <td>0</td>\n",
       "      <td>0</td>\n",
       "      <td>1</td>\n",
       "      <td>0</td>\n",
       "      <td>2</td>\n",
       "      <td>1</td>\n",
       "      <td>1</td>\n",
       "      <td>0</td>\n",
       "      <td>1</td>\n",
       "      <td>1</td>\n",
       "      <td>1</td>\n",
       "      <td>2</td>\n",
       "      <td>1</td>\n",
       "      <td>2</td>\n",
       "      <td>2</td>\n",
       "      <td>0</td>\n",
       "      <td>2</td>\n",
       "      <td>2</td>\n",
       "      <td>2</td>\n",
       "      <td>1</td>\n",
       "      <td>1</td>\n",
       "      <td>2</td>\n",
       "      <td>1</td>\n",
       "      <td>0</td>\n",
       "      <td>1</td>\n",
       "      <td>0</td>\n",
       "      <td>0</td>\n",
       "      <td>0</td>\n",
       "      <td>1</td>\n",
       "      <td>0</td>\n",
       "      <td>0</td>\n",
       "      <td>0</td>\n",
       "      <td>0</td>\n",
       "    </tr>\n",
       "  </tbody>\n",
       "</table>\n",
       "</div>"
      ],
      "text/plain": [
       "    engage30  init  female_cd  nonwhite_cd  unemplmt_cd  primsev_cd  \\\n",
       "0          1     1          0            0            1           2   \n",
       "4          1     1          0            0            0           2   \n",
       "9          0     1          0            0            0           2   \n",
       "11         1     1          0            0            0           2   \n",
       "16         1     1          0            0            0           2   \n",
       "\n",
       "    prsatx_cd  TRIg_0_cd  TMIg_0_cd  SESg_0_cd  gvsg_cd  tsd_0_cd  und15_cd  \\\n",
       "0           1          0          1          0        2         1         1   \n",
       "4           0          1          1          0        0         0         1   \n",
       "9           0          0          2          0        0         0         1   \n",
       "11          0          1          1          0        2         0         1   \n",
       "16          0          0          1          0        2         1         1   \n",
       "\n",
       "    CWSg_0_cd  srprobg_cd  S9y10_cd  dldiag_cd  dssg_0_cd  epsg_0_cd  \\\n",
       "0           0           1         2          1          2          1   \n",
       "4           0           0         8          0          1          0   \n",
       "9           0           0         8          0          0          1   \n",
       "11          0           1         1          1          1          2   \n",
       "16          0           1         1          1          2          1   \n",
       "\n",
       "    adhdg_0_cd  cdsg_0_cd  suicprbs_0_cd  cjsig_0_cd  lrig_0_cd  srig_0_cd  \\\n",
       "0            2          1              0           1          1          1   \n",
       "4            0          1              0           1          2          1   \n",
       "9            0          0              0           0          1          1   \n",
       "11           2          1              0           2          1          1   \n",
       "16           2          2              0           2          2          2   \n",
       "\n",
       "    homeless_0_cd  S6_cd  gcsg_0_cd  ncar_cd  ada_0_cd  Raceg4_cd_1  \\\n",
       "0               0      0          0        0        90            1   \n",
       "4               1      0          1        1        74            1   \n",
       "9               0      0          0        1        90            1   \n",
       "11              0      0          0        0        90            1   \n",
       "16              1      1          2        1         0            1   \n",
       "\n",
       "    Raceg4_cd_2  Raceg4_cd_3  Raceg4_cd_4  loc_cd_1  loc_cd_2  loc_cd_3  \\\n",
       "0             0            0            0         1         0         0   \n",
       "4             0            0            0         1         0         0   \n",
       "9             0            0            0         1         0         0   \n",
       "11            0            0            0         1         0         0   \n",
       "16            0            0            0         1         0         0   \n",
       "\n",
       "    loc_cd_6  loc_cd_9  \n",
       "0          0         0  \n",
       "4          0         0  \n",
       "9          0         0  \n",
       "11         0         0  \n",
       "16         0         0  "
      ]
     },
     "execution_count": 417,
     "metadata": {},
     "output_type": "execute_result"
    }
   ],
   "source": [
    "df = pd.read_csv('data_cleaned.csv', index_col=[0])\n",
    "print(df.shape)\n",
    "df.head()"
   ]
  },
  {
   "cell_type": "markdown",
   "metadata": {},
   "source": [
    "### Split Data by Substance"
   ]
  },
  {
   "cell_type": "code",
   "execution_count": 418,
   "metadata": {},
   "outputs": [
    {
     "name": "stdout",
     "output_type": "stream",
     "text": [
      "Opioids: (933, 38)\n",
      "Stimulants: (4525, 38)\n"
     ]
    }
   ],
   "source": [
    "opioids_mask = df['primsev_cd'] == 5\n",
    "opioids = df[opioids_mask]\n",
    "opioids = opioids.drop(columns=['primsev_cd'])\n",
    "\n",
    "amphetamines_mask = df['primsev_cd'] == 2\n",
    "cocaine_mask = df['primsev_cd'] == 4\n",
    "stimulants = df[amphetamines_mask | cocaine_mask]\n",
    "stimulants = stimulants.drop(columns=['primsev_cd'])\n",
    "\n",
    "print('Opioids:', opioids.shape)\n",
    "print('Stimulants:', stimulants.shape)"
   ]
  },
  {
   "cell_type": "markdown",
   "metadata": {},
   "source": [
    "### Outcome Distribution (percentage)"
   ]
  },
  {
   "cell_type": "code",
   "execution_count": 419,
   "metadata": {},
   "outputs": [
    {
     "data": {
      "text/plain": [
       "1    88.861878\n",
       "0    11.138122\n",
       "Name: init, dtype: float64"
      ]
     },
     "execution_count": 419,
     "metadata": {},
     "output_type": "execute_result"
    }
   ],
   "source": [
    "stimulants['init'].value_counts() / stimulants['init'].shape[0] * 100"
   ]
  },
  {
   "cell_type": "code",
   "execution_count": 420,
   "metadata": {},
   "outputs": [
    {
     "data": {
      "text/plain": [
       "1    88.960343\n",
       "0    11.039657\n",
       "Name: init, dtype: float64"
      ]
     },
     "execution_count": 420,
     "metadata": {},
     "output_type": "execute_result"
    }
   ],
   "source": [
    "opioids['init'].value_counts() / opioids['init'].shape[0] * 100"
   ]
  },
  {
   "cell_type": "code",
   "execution_count": 421,
   "metadata": {},
   "outputs": [
    {
     "data": {
      "text/plain": [
       "1    63.226519\n",
       "0    36.773481\n",
       "Name: engage30, dtype: float64"
      ]
     },
     "execution_count": 421,
     "metadata": {},
     "output_type": "execute_result"
    }
   ],
   "source": [
    "stimulants['engage30'].value_counts() / stimulants['engage30'].shape[0] * 100"
   ]
  },
  {
   "cell_type": "code",
   "execution_count": 422,
   "metadata": {},
   "outputs": [
    {
     "data": {
      "text/plain": [
       "1    70.418006\n",
       "0    29.581994\n",
       "Name: engage30, dtype: float64"
      ]
     },
     "execution_count": 422,
     "metadata": {},
     "output_type": "execute_result"
    }
   ],
   "source": [
    "opioids['engage30'].value_counts() / opioids['engage30'].shape[0] * 100"
   ]
  },
  {
   "cell_type": "markdown",
   "metadata": {},
   "source": [
    "### Modelling"
   ]
  },
  {
   "cell_type": "code",
   "execution_count": 423,
   "metadata": {},
   "outputs": [],
   "source": [
    "def run_model(model, data, grouping, outcome):\n",
    "    X = data.drop(columns=[outcome])\n",
    "    y = data[outcome]\n",
    "    \n",
    "    X_train, X_test, y_train, y_test = train_test_split(X, y, test_size=0.33)\n",
    "    print(\"X_train:\", X_train.shape, \"X_test:\", X_test.shape, \"y_train:\", y_train.shape, \"y_test:\", y_test.shape)    \n",
    "    \n",
    "    res = cross_validate(model, X_train, y_train, return_estimator=True, cv=5)\n",
    "    top_model_ind = list(res['test_score']).index(max(list(res['test_score'])))\n",
    "    model = res['estimator'][top_model_ind]\n",
    "    \n",
    "    y_pred = model.predict(X_test)\n",
    "\n",
    "    accuracy = metrics.accuracy_score(y_test, y_pred)\n",
    "    f1 = metrics.f1_score(y_test, y_pred)\n",
    "    precision = metrics.precision_score(y_test, y_pred)\n",
    "    recall = metrics.recall_score(y_test, y_pred)\n",
    "\n",
    "    # https://towardsdatascience.com/accuracy-precision-recall-or-f1-331fb37c5cb9\n",
    "    print(\"Accuracy:\", accuracy)\n",
    "    print(\"F1:\", f1)\n",
    "    print(\"Precision:\", precision)\n",
    "    print(\"Recall:\", recall)\n",
    "    \n",
    "    try:\n",
    "        # random forest\n",
    "        feature_importance = model.feature_importances_ \n",
    "        label = \"RF \" + grouping + \" \" + outcome\n",
    "    except AttributeError:\n",
    "        # logistic regression\n",
    "        feature_importance = np.exp(model.coef_[0]) - 1 # hazard ratios\n",
    "        label = \"LR \" + grouping + \" \" + outcome\n",
    "    \n",
    "    ns_probs = [0 for _ in range(len(y_test))]\n",
    "    lr_probs = model.predict_proba(X_test)\n",
    "    # keep probabilities for the positive outcome only\n",
    "    lr_probs = lr_probs[:, 1]\n",
    "    # calculate scores\n",
    "    lr_auc = metrics.roc_auc_score(y_test, lr_probs)\n",
    "    # summarize scores\n",
    "    print('AUC: %.3f' % (lr_auc))\n",
    "    # calculate roc curves\n",
    "    ns_fpr, ns_tpr, _ = metrics.roc_curve(y_test, ns_probs)\n",
    "    lr_fpr, lr_tpr, _ = metrics.roc_curve(y_test, lr_probs)\n",
    "    # plot the roc curve for the model\n",
    "    pyplot.plot(ns_fpr, ns_tpr, linestyle='--', label='No Skill')\n",
    "    pyplot.plot(lr_fpr, lr_tpr, marker='.', label='Logistic')\n",
    "    # axis labels\n",
    "    pyplot.xlabel('False Positive Rate')\n",
    "    pyplot.ylabel('True Positive Rate')\n",
    "    pyplot.title(label)\n",
    "    # show the legend\n",
    "    pyplot.legend()\n",
    "    # show the plot\n",
    "    pyplot.show()\n",
    "    \n",
    "    features = X.columns\n",
    "    feature_importance_df = pd.DataFrame({\"feature\": features, label: feature_importance})\n",
    "    feature_importance_df = feature_importance_df.set_index('feature')\n",
    "    return feature_importance_df"
   ]
  },
  {
   "cell_type": "code",
   "execution_count": 424,
   "metadata": {},
   "outputs": [],
   "source": [
    "def get_logistic_regression_features(X):\n",
    "    # one-hot encode all variables (except binary vars) to get hazards across groups, drop reference group\n",
    "    result = X.copy()\n",
    "    outcomes = [\"init\", \"engage30\", \"ada_0_cd\"] # ada_0_cd is continuous\n",
    "    \n",
    "    for col in result.columns:\n",
    "        if not np.isin(result[col], [0, 1]).all() and col not in outcomes: # if non-binary and not an outcome\n",
    "            one_hot = pd.get_dummies(result[col], prefix=col)\n",
    "            one_hot = one_hot.loc[:, ~one_hot.columns.str.endswith('1')] # drop group and use as reference\n",
    "            result = result.drop(col,axis = 1)\n",
    "            result = result.join(one_hot)\n",
    "    #print('Logistic Regression Features:',lasso_X.columns)\n",
    "    return result"
   ]
  },
  {
   "cell_type": "code",
   "execution_count": 425,
   "metadata": {},
   "outputs": [],
   "source": [
    "opioids_engage30 = opioids.drop(columns=['init'])\n",
    "opioids_init = opioids.drop(columns=['engage30'])\n",
    "stimulants_engage30 = stimulants.drop(columns=['init'])\n",
    "stimulants_init = stimulants.drop(columns=['engage30'])"
   ]
  },
  {
   "cell_type": "code",
   "execution_count": 426,
   "metadata": {},
   "outputs": [],
   "source": [
    "features_random_forest = list(opioids_engage30.columns)\n",
    "features_random_forest.remove('engage30')\n",
    "feature_importance_random_forest = pd.DataFrame({\"feature\": features_random_forest})\n",
    "feature_importance_random_forest = feature_importance_random_forest.set_index('feature')\n",
    "\n",
    "\n",
    "features_logistic_regression = list(get_logistic_regression_features(opioids_engage30).columns)\n",
    "features_logistic_regression.remove('engage30')\n",
    "feature_importance_logistic_regression = pd.DataFrame({\"feature\": features_logistic_regression})\n",
    "feature_importance_logistic_regression = feature_importance_logistic_regression.set_index('feature')"
   ]
  },
  {
   "cell_type": "code",
   "execution_count": 427,
   "metadata": {},
   "outputs": [
    {
     "name": "stdout",
     "output_type": "stream",
     "text": [
      "X_train: (3031, 36) X_test: (1494, 36) y_train: (3031,) y_test: (1494,)\n",
      "Accuracy: 0.8942436412315931\n",
      "F1: 0.9441301272984443\n",
      "Precision: 0.8983849259757739\n",
      "Recall: 0.9947839046199702\n",
      "AUC: 0.698\n"
     ]
    },
    {
     "data": {
      "image/png": "[encoded data removed]",
      "text/plain": [
       "<Figure size 432x288 with 1 Axes>"
      ]
     },
     "metadata": {
      "needs_background": "light"
     },
     "output_type": "display_data"
    }
   ],
   "source": [
    "random_forest_stimulants_init = run_model(RandomForestClassifier(), stimulants_init, 'stimulants', 'init')\n",
    "feature_importance_random_forest = feature_importance_random_forest.join(random_forest_stimulants_init)"
   ]
  },
  {
   "cell_type": "code",
   "execution_count": 428,
   "metadata": {},
   "outputs": [
    {
     "name": "stdout",
     "output_type": "stream",
     "text": [
      "X_train: (3031, 51) X_test: (1494, 51) y_train: (3031,) y_test: (1494,)\n",
      "Accuracy: 0.8775100401606426\n",
      "F1: 0.9347128077060292\n",
      "Precision: 0.8780160857908847\n",
      "Recall: 0.9992372234935164\n",
      "AUC: 0.649\n"
     ]
    },
    {
     "data": {
      "image/png": "[encoded data removed]",
      "text/plain": [
       "<Figure size 432x288 with 1 Axes>"
      ]
     },
     "metadata": {
      "needs_background": "light"
     },
     "output_type": "display_data"
    }
   ],
   "source": [
    "stimulants_init_logistic_regression = get_logistic_regression_features(stimulants_init)\n",
    "\n",
    "logistic_regression_stimulants_init = run_model(LogisticRegression(max_iter=1000), stimulants_init_logistic_regression, 'stimulants', 'init')\n",
    "feature_importance_logistic_regression = feature_importance_logistic_regression.join(logistic_regression_stimulants_init)"
   ]
  },
  {
   "cell_type": "code",
   "execution_count": 429,
   "metadata": {},
   "outputs": [
    {
     "name": "stdout",
     "output_type": "stream",
     "text": [
      "X_train: (625, 36) X_test: (308, 36) y_train: (625,) y_test: (308,)\n",
      "Accuracy: 0.8928571428571429\n",
      "F1: 0.9433962264150945\n",
      "Precision: 0.8928571428571429\n",
      "Recall: 1.0\n",
      "AUC: 0.610\n"
     ]
    },
    {
     "data": {
      "image/png": "[encoded data removed]",
      "text/plain": [
       "<Figure size 432x288 with 1 Axes>"
      ]
     },
     "metadata": {
      "needs_background": "light"
     },
     "output_type": "display_data"
    }
   ],
   "source": [
    "random_forest_opioids_init = run_model(RandomForestClassifier(), opioids_init, 'opioids', 'init')\n",
    "feature_importance_random_forest = feature_importance_random_forest.join(random_forest_opioids_init)"
   ]
  },
  {
   "cell_type": "code",
   "execution_count": 430,
   "metadata": {},
   "outputs": [
    {
     "name": "stdout",
     "output_type": "stream",
     "text": [
      "X_train: (625, 51) X_test: (308, 51) y_train: (625,) y_test: (308,)\n",
      "Accuracy: 0.8993506493506493\n",
      "F1: 0.9466437177280551\n",
      "Precision: 0.9166666666666666\n",
      "Recall: 0.9786476868327402\n",
      "AUC: 0.727\n"
     ]
    },
    {
     "data": {
      "image/png": "[encoded data removed]",
      "text/plain": [
       "<Figure size 432x288 with 1 Axes>"
      ]
     },
     "metadata": {
      "needs_background": "light"
     },
     "output_type": "display_data"
    }
   ],
   "source": [
    "opioids_init_logistic_regression = get_logistic_regression_features(opioids_init)\n",
    "\n",
    "logistic_regression_opioids_init = run_model(LogisticRegression(max_iter=1000), opioids_init_logistic_regression, 'opioids', 'init')\n",
    "feature_importance_logistic_regression = feature_importance_logistic_regression.join(logistic_regression_opioids_init)"
   ]
  },
  {
   "cell_type": "code",
   "execution_count": 431,
   "metadata": {},
   "outputs": [
    {
     "name": "stdout",
     "output_type": "stream",
     "text": [
      "X_train: (3031, 36) X_test: (1494, 36) y_train: (3031,) y_test: (1494,)\n",
      "Accuracy: 0.6412315930388219\n",
      "F1: 0.7541284403669725\n",
      "Precision: 0.6699266503667481\n",
      "Recall: 0.8625393494228751\n",
      "AUC: 0.621\n"
     ]
    },
    {
     "data": {
      "image/png": "[encoded data removed]",
      "text/plain": [
       "<Figure size 432x288 with 1 Axes>"
      ]
     },
     "metadata": {
      "needs_background": "light"
     },
     "output_type": "display_data"
    }
   ],
   "source": [
    "random_forest_stimulants_engage30 = run_model(RandomForestClassifier(), stimulants_engage30, 'stimulants', 'engage30')\n",
    "feature_importance_random_forest = feature_importance_random_forest.join(random_forest_stimulants_engage30)"
   ]
  },
  {
   "cell_type": "code",
   "execution_count": 432,
   "metadata": {},
   "outputs": [
    {
     "name": "stdout",
     "output_type": "stream",
     "text": [
      "X_train: (3031, 51) X_test: (1494, 51) y_train: (3031,) y_test: (1494,)\n",
      "Accuracy: 0.6506024096385542\n",
      "F1: 0.7644404332129964\n",
      "Precision: 0.6637931034482759\n",
      "Recall: 0.9010638297872341\n",
      "AUC: 0.595\n"
     ]
    },
    {
     "data": {
      "image/png": "[encoded data removed]",
      "text/plain": [
       "<Figure size 432x288 with 1 Axes>"
      ]
     },
     "metadata": {
      "needs_background": "light"
     },
     "output_type": "display_data"
    }
   ],
   "source": [
    "stimulants_engage30_logistic_regression = get_logistic_regression_features(stimulants_engage30)\n",
    "\n",
    "logistic_regression_stimulants_engage30 = run_model(LogisticRegression(max_iter=1000), stimulants_engage30_logistic_regression, 'stimulants', 'engage30')\n",
    "feature_importance_logistic_regression = feature_importance_logistic_regression.join(logistic_regression_stimulants_engage30)"
   ]
  },
  {
   "cell_type": "code",
   "execution_count": 433,
   "metadata": {},
   "outputs": [
    {
     "name": "stdout",
     "output_type": "stream",
     "text": [
      "X_train: (625, 36) X_test: (308, 36) y_train: (625,) y_test: (308,)\n",
      "Accuracy: 0.6883116883116883\n",
      "F1: 0.8032786885245901\n",
      "Precision: 0.7205882352941176\n",
      "Recall: 0.9074074074074074\n",
      "AUC: 0.575\n"
     ]
    },
    {
     "data": {
      "image/png": "[encoded data removed]",
      "text/plain": [
       "<Figure size 432x288 with 1 Axes>"
      ]
     },
     "metadata": {
      "needs_background": "light"
     },
     "output_type": "display_data"
    }
   ],
   "source": [
    "random_forest_opioids_engage30 = run_model(RandomForestClassifier(), opioids_engage30, 'opioids', 'engage30')\n",
    "feature_importance_random_forest = feature_importance_random_forest.join(random_forest_opioids_engage30)"
   ]
  },
  {
   "cell_type": "code",
   "execution_count": 434,
   "metadata": {},
   "outputs": [
    {
     "name": "stdout",
     "output_type": "stream",
     "text": [
      "X_train: (625, 51) X_test: (308, 51) y_train: (625,) y_test: (308,)\n",
      "Accuracy: 0.7077922077922078\n",
      "F1: 0.8170731707317074\n",
      "Precision: 0.7335766423357665\n",
      "Recall: 0.9220183486238532\n",
      "AUC: 0.664\n"
     ]
    },
    {
     "data": {
      "image/png": "[encoded data removed]",
      "text/plain": [
       "<Figure size 432x288 with 1 Axes>"
      ]
     },
     "metadata": {
      "needs_background": "light"
     },
     "output_type": "display_data"
    }
   ],
   "source": [
    "opioids_engage30_logistic_regression = get_logistic_regression_features(opioids_engage30)\n",
    "\n",
    "logistic_regression_opioids_engage30 = run_model(LogisticRegression(max_iter=1000), opioids_engage30_logistic_regression, 'opioids', 'engage30')\n",
    "feature_importance_logistic_regression = feature_importance_logistic_regression.join(logistic_regression_opioids_engage30)"
   ]
  },
  {
   "cell_type": "markdown",
   "metadata": {},
   "source": [
    "### Feature Importance Analysis"
   ]
  },
  {
   "cell_type": "code",
   "execution_count": 435,
   "metadata": {},
   "outputs": [],
   "source": [
    "def func(row, groups):\n",
    "    result = 0\n",
    "    for group in groups:\n",
    "        result += abs(row[group])\n",
    "    return result\n",
    "\n",
    "feature_importance_random_forest['abs sum'] = feature_importance_random_forest.apply(lambda row: func(row, feature_importance_random_forest.columns), axis=1)\n",
    "feature_importance_random_forest = feature_importance_random_forest.sort_values(by='abs sum', ascending=False)\n",
    "\n",
    "feature_importance_logistic_regression['abs sum'] = feature_importance_logistic_regression.apply(lambda row: func(row, feature_importance_logistic_regression.columns), axis=1)\n",
    "feature_importance_logistic_regression = feature_importance_logistic_regression.sort_values(by='abs sum', ascending=False)"
   ]
  },
  {
   "cell_type": "code",
   "execution_count": 436,
   "metadata": {},
   "outputs": [
    {
     "data": {
      "text/html": [
       "<div>\n",
       "<style scoped>\n",
       "    .dataframe tbody tr th:only-of-type {\n",
       "        vertical-align: middle;\n",
       "    }\n",
       "\n",
       "    .dataframe tbody tr th {\n",
       "        vertical-align: top;\n",
       "    }\n",
       "\n",
       "    .dataframe thead th {\n",
       "        text-align: right;\n",
       "    }\n",
       "</style>\n",
       "<table border=\"1\" class=\"dataframe\">\n",
       "  <thead>\n",
       "    <tr style=\"text-align: right;\">\n",
       "      <th></th>\n",
       "      <th>RF stimulants init</th>\n",
       "      <th>RF opioids init</th>\n",
       "      <th>RF stimulants engage30</th>\n",
       "      <th>RF opioids engage30</th>\n",
       "      <th>abs sum</th>\n",
       "    </tr>\n",
       "    <tr>\n",
       "      <th>feature</th>\n",
       "      <th></th>\n",
       "      <th></th>\n",
       "      <th></th>\n",
       "      <th></th>\n",
       "      <th></th>\n",
       "    </tr>\n",
       "  </thead>\n",
       "  <tbody>\n",
       "    <tr>\n",
       "      <th>ada_0_cd</th>\n",
       "      <td>0.104832</td>\n",
       "      <td>0.113719</td>\n",
       "      <td>0.100904</td>\n",
       "      <td>0.108122</td>\n",
       "      <td>0.427578</td>\n",
       "    </tr>\n",
       "    <tr>\n",
       "      <th>cjsig_0_cd</th>\n",
       "      <td>0.046983</td>\n",
       "      <td>0.047720</td>\n",
       "      <td>0.041553</td>\n",
       "      <td>0.043951</td>\n",
       "      <td>0.180207</td>\n",
       "    </tr>\n",
       "    <tr>\n",
       "      <th>SESg_0_cd</th>\n",
       "      <td>0.037166</td>\n",
       "      <td>0.037009</td>\n",
       "      <td>0.036350</td>\n",
       "      <td>0.051537</td>\n",
       "      <td>0.162063</td>\n",
       "    </tr>\n",
       "    <tr>\n",
       "      <th>gcsg_0_cd</th>\n",
       "      <td>0.041984</td>\n",
       "      <td>0.040499</td>\n",
       "      <td>0.039989</td>\n",
       "      <td>0.038101</td>\n",
       "      <td>0.160573</td>\n",
       "    </tr>\n",
       "    <tr>\n",
       "      <th>gvsg_cd</th>\n",
       "      <td>0.043595</td>\n",
       "      <td>0.038818</td>\n",
       "      <td>0.040775</td>\n",
       "      <td>0.033955</td>\n",
       "      <td>0.157143</td>\n",
       "    </tr>\n",
       "  </tbody>\n",
       "</table>\n",
       "</div>"
      ],
      "text/plain": [
       "            RF stimulants init  RF opioids init  RF stimulants engage30  \\\n",
       "feature                                                                   \n",
       "ada_0_cd              0.104832         0.113719                0.100904   \n",
       "cjsig_0_cd            0.046983         0.047720                0.041553   \n",
       "SESg_0_cd             0.037166         0.037009                0.036350   \n",
       "gcsg_0_cd             0.041984         0.040499                0.039989   \n",
       "gvsg_cd               0.043595         0.038818                0.040775   \n",
       "\n",
       "            RF opioids engage30   abs sum  \n",
       "feature                                    \n",
       "ada_0_cd               0.108122  0.427578  \n",
       "cjsig_0_cd             0.043951  0.180207  \n",
       "SESg_0_cd              0.051537  0.162063  \n",
       "gcsg_0_cd              0.038101  0.160573  \n",
       "gvsg_cd                0.033955  0.157143  "
      ]
     },
     "execution_count": 436,
     "metadata": {},
     "output_type": "execute_result"
    }
   ],
   "source": [
    "feature_importance_random_forest.head() "
   ]
  },
  {
   "cell_type": "code",
   "execution_count": 437,
   "metadata": {},
   "outputs": [
    {
     "data": {
      "text/html": [
       "<div>\n",
       "<style scoped>\n",
       "    .dataframe tbody tr th:only-of-type {\n",
       "        vertical-align: middle;\n",
       "    }\n",
       "\n",
       "    .dataframe tbody tr th {\n",
       "        vertical-align: top;\n",
       "    }\n",
       "\n",
       "    .dataframe thead th {\n",
       "        text-align: right;\n",
       "    }\n",
       "</style>\n",
       "<table border=\"1\" class=\"dataframe\">\n",
       "  <thead>\n",
       "    <tr style=\"text-align: right;\">\n",
       "      <th></th>\n",
       "      <th>LR stimulants init</th>\n",
       "      <th>LR opioids init</th>\n",
       "      <th>LR stimulants engage30</th>\n",
       "      <th>LR opioids engage30</th>\n",
       "      <th>abs sum</th>\n",
       "    </tr>\n",
       "    <tr>\n",
       "      <th>feature</th>\n",
       "      <th></th>\n",
       "      <th></th>\n",
       "      <th></th>\n",
       "      <th></th>\n",
       "      <th></th>\n",
       "    </tr>\n",
       "  </thead>\n",
       "  <tbody>\n",
       "    <tr>\n",
       "      <th>loc_cd_1</th>\n",
       "      <td>2.295717</td>\n",
       "      <td>1.957676</td>\n",
       "      <td>0.325114</td>\n",
       "      <td>-0.328328</td>\n",
       "      <td>4.906835</td>\n",
       "    </tr>\n",
       "    <tr>\n",
       "      <th>loc_cd_9</th>\n",
       "      <td>-0.545397</td>\n",
       "      <td>-0.708646</td>\n",
       "      <td>1.138214</td>\n",
       "      <td>1.117706</td>\n",
       "      <td>3.509962</td>\n",
       "    </tr>\n",
       "    <tr>\n",
       "      <th>dldiag_cd</th>\n",
       "      <td>0.046604</td>\n",
       "      <td>1.788712</td>\n",
       "      <td>0.184332</td>\n",
       "      <td>0.248517</td>\n",
       "      <td>2.268166</td>\n",
       "    </tr>\n",
       "    <tr>\n",
       "      <th>unemplmt_cd</th>\n",
       "      <td>1.323216</td>\n",
       "      <td>0.494569</td>\n",
       "      <td>-0.150924</td>\n",
       "      <td>-0.279934</td>\n",
       "      <td>2.248643</td>\n",
       "    </tr>\n",
       "    <tr>\n",
       "      <th>lrig_0_cd_0</th>\n",
       "      <td>-0.228702</td>\n",
       "      <td>0.858041</td>\n",
       "      <td>-0.346228</td>\n",
       "      <td>0.569855</td>\n",
       "      <td>2.002826</td>\n",
       "    </tr>\n",
       "    <tr>\n",
       "      <th>adhdg_0_cd_0</th>\n",
       "      <td>0.537625</td>\n",
       "      <td>0.465487</td>\n",
       "      <td>0.226333</td>\n",
       "      <td>0.548972</td>\n",
       "      <td>1.778417</td>\n",
       "    </tr>\n",
       "    <tr>\n",
       "      <th>loc_cd_2</th>\n",
       "      <td>1.037347</td>\n",
       "      <td>0.025848</td>\n",
       "      <td>-0.358681</td>\n",
       "      <td>0.304654</td>\n",
       "      <td>1.726530</td>\n",
       "    </tr>\n",
       "    <tr>\n",
       "      <th>dssg_0_cd_2</th>\n",
       "      <td>-0.255713</td>\n",
       "      <td>1.002263</td>\n",
       "      <td>-0.184799</td>\n",
       "      <td>-0.240231</td>\n",
       "      <td>1.683006</td>\n",
       "    </tr>\n",
       "    <tr>\n",
       "      <th>cjsig_0_cd_2</th>\n",
       "      <td>0.649005</td>\n",
       "      <td>0.150541</td>\n",
       "      <td>0.446749</td>\n",
       "      <td>-0.402469</td>\n",
       "      <td>1.648764</td>\n",
       "    </tr>\n",
       "    <tr>\n",
       "      <th>cdsg_0_cd_0</th>\n",
       "      <td>-0.176787</td>\n",
       "      <td>0.905523</td>\n",
       "      <td>-0.236532</td>\n",
       "      <td>-0.274186</td>\n",
       "      <td>1.593028</td>\n",
       "    </tr>\n",
       "  </tbody>\n",
       "</table>\n",
       "</div>"
      ],
      "text/plain": [
       "              LR stimulants init  LR opioids init  LR stimulants engage30  \\\n",
       "feature                                                                     \n",
       "loc_cd_1                2.295717         1.957676                0.325114   \n",
       "loc_cd_9               -0.545397        -0.708646                1.138214   \n",
       "dldiag_cd               0.046604         1.788712                0.184332   \n",
       "unemplmt_cd             1.323216         0.494569               -0.150924   \n",
       "lrig_0_cd_0            -0.228702         0.858041               -0.346228   \n",
       "adhdg_0_cd_0            0.537625         0.465487                0.226333   \n",
       "loc_cd_2                1.037347         0.025848               -0.358681   \n",
       "dssg_0_cd_2            -0.255713         1.002263               -0.184799   \n",
       "cjsig_0_cd_2            0.649005         0.150541                0.446749   \n",
       "cdsg_0_cd_0            -0.176787         0.905523               -0.236532   \n",
       "\n",
       "              LR opioids engage30   abs sum  \n",
       "feature                                      \n",
       "loc_cd_1                -0.328328  4.906835  \n",
       "loc_cd_9                 1.117706  3.509962  \n",
       "dldiag_cd                0.248517  2.268166  \n",
       "unemplmt_cd             -0.279934  2.248643  \n",
       "lrig_0_cd_0              0.569855  2.002826  \n",
       "adhdg_0_cd_0             0.548972  1.778417  \n",
       "loc_cd_2                 0.304654  1.726530  \n",
       "dssg_0_cd_2             -0.240231  1.683006  \n",
       "cjsig_0_cd_2            -0.402469  1.648764  \n",
       "cdsg_0_cd_0             -0.274186  1.593028  "
      ]
     },
     "execution_count": 437,
     "metadata": {},
     "output_type": "execute_result"
    }
   ],
   "source": [
    "feature_importance_logistic_regression.head(10) "
   ]
  },
  {
   "cell_type": "code",
   "execution_count": 438,
   "metadata": {},
   "outputs": [],
   "source": [
    "# Create a Pandas Excel writer using XlsxWriter as the engine.\n",
    "writer = pd.ExcelWriter('feature_importance.xlsx', engine='xlsxwriter')\n",
    "\n",
    "# Write each dataframe to a different worksheet.\n",
    "feature_importance_random_forest.to_excel(writer, sheet_name='Random Forest')\n",
    "feature_importance_logistic_regression.to_excel(writer, sheet_name='Logistic Regression')\n",
    "\n",
    "# Close the Pandas Excel writer and output the Excel file.\n",
    "writer.save()"
   ]
  },
  {
   "cell_type": "code",
   "execution_count": 439,
   "metadata": {},
   "outputs": [
    {
     "name": "stdout",
     "output_type": "stream",
     "text": [
      "--- 0 minutes 13 seconds ---\n"
     ]
    }
   ],
   "source": [
    "total_seconds = int(time.time() - start_time)\n",
    "hours = total_seconds // (60 * 60)\n",
    "minutes = (total_seconds - hours*60) // 60\n",
    "seconds = (total_seconds - hours*60) % 60\n",
    "print(\"--- \" + str(minutes) + \" minutes \" + str(seconds) + \" seconds ---\")"
   ]
  },
  {
   "cell_type": "code",
   "execution_count": 440,
   "metadata": {},
   "outputs": [],
   "source": [
    "# notes\n",
    "\n",
    "# distribution of engage30 is better (~60% positive rate) than init (~90% positive rate)\n",
    "# based on the low coefficients for all the features for init predictions it looks like the \n",
    "#   model is always predicting the same thing\n",
    "# engage30 dominates feature importance"
   ]
  }
 ],
 "metadata": {
  "kernelspec": {
   "display_name": "Python 3",
   "language": "python",
   "name": "python3"
  },
  "language_info": {
   "codemirror_mode": {
    "name": "ipython",
    "version": 3
   },
   "file_extension": ".py",
   "mimetype": "text/x-python",
   "name": "python",
   "nbconvert_exporter": "python",
   "pygments_lexer": "ipython3",
   "version": "3.7.3"
  }
 },
 "nbformat": 4,
 "nbformat_minor": 2
}

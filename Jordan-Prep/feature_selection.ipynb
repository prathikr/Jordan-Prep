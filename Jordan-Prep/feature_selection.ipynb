{
 "cells": [
  {
   "cell_type": "code",
   "execution_count": 1,
   "metadata": {},
   "outputs": [],
   "source": [
    "import pandas as pd\n",
    "import time\n",
    "import numpy as np\n",
    "np.random.seed(2017)"
   ]
  },
  {
   "cell_type": "code",
   "execution_count": 2,
   "metadata": {},
   "outputs": [],
   "source": [
    "# store start time to get execution time of entire script\n",
    "import time\n",
    "start_time = time.time()"
   ]
  },
  {
   "cell_type": "code",
   "execution_count": 3,
   "metadata": {},
   "outputs": [
    {
     "name": "stdout",
     "output_type": "stream",
     "text": [
      "(5457, 39)\n"
     ]
    },
    {
     "data": {
      "text/html": [
       "<div>\n",
       "<style scoped>\n",
       "    .dataframe tbody tr th:only-of-type {\n",
       "        vertical-align: middle;\n",
       "    }\n",
       "\n",
       "    .dataframe tbody tr th {\n",
       "        vertical-align: top;\n",
       "    }\n",
       "\n",
       "    .dataframe thead th {\n",
       "        text-align: right;\n",
       "    }\n",
       "</style>\n",
       "<table border=\"1\" class=\"dataframe\">\n",
       "  <thead>\n",
       "    <tr style=\"text-align: right;\">\n",
       "      <th></th>\n",
       "      <th>engage30</th>\n",
       "      <th>init</th>\n",
       "      <th>female_cd</th>\n",
       "      <th>nonwhite_cd</th>\n",
       "      <th>unemplmt_cd</th>\n",
       "      <th>primsev_cd</th>\n",
       "      <th>prsatx_cd</th>\n",
       "      <th>TRIg_0_cd</th>\n",
       "      <th>TMIg_0_cd</th>\n",
       "      <th>SESg_0_cd</th>\n",
       "      <th>...</th>\n",
       "      <th>SFSg_0_cd</th>\n",
       "      <th>Raceg4_cd_1</th>\n",
       "      <th>Raceg4_cd_2</th>\n",
       "      <th>Raceg4_cd_3</th>\n",
       "      <th>Raceg4_cd_4</th>\n",
       "      <th>loc_cd_1</th>\n",
       "      <th>loc_cd_2</th>\n",
       "      <th>loc_cd_3</th>\n",
       "      <th>loc_cd_6</th>\n",
       "      <th>loc_cd_9</th>\n",
       "    </tr>\n",
       "  </thead>\n",
       "  <tbody>\n",
       "    <tr>\n",
       "      <th>0</th>\n",
       "      <td>1</td>\n",
       "      <td>1</td>\n",
       "      <td>0</td>\n",
       "      <td>0</td>\n",
       "      <td>1</td>\n",
       "      <td>2</td>\n",
       "      <td>1</td>\n",
       "      <td>0</td>\n",
       "      <td>1</td>\n",
       "      <td>0</td>\n",
       "      <td>...</td>\n",
       "      <td>0</td>\n",
       "      <td>1</td>\n",
       "      <td>0</td>\n",
       "      <td>0</td>\n",
       "      <td>0</td>\n",
       "      <td>1</td>\n",
       "      <td>0</td>\n",
       "      <td>0</td>\n",
       "      <td>0</td>\n",
       "      <td>0</td>\n",
       "    </tr>\n",
       "    <tr>\n",
       "      <th>4</th>\n",
       "      <td>1</td>\n",
       "      <td>1</td>\n",
       "      <td>0</td>\n",
       "      <td>0</td>\n",
       "      <td>0</td>\n",
       "      <td>2</td>\n",
       "      <td>0</td>\n",
       "      <td>1</td>\n",
       "      <td>1</td>\n",
       "      <td>0</td>\n",
       "      <td>...</td>\n",
       "      <td>1</td>\n",
       "      <td>1</td>\n",
       "      <td>0</td>\n",
       "      <td>0</td>\n",
       "      <td>0</td>\n",
       "      <td>1</td>\n",
       "      <td>0</td>\n",
       "      <td>0</td>\n",
       "      <td>0</td>\n",
       "      <td>0</td>\n",
       "    </tr>\n",
       "    <tr>\n",
       "      <th>9</th>\n",
       "      <td>0</td>\n",
       "      <td>1</td>\n",
       "      <td>0</td>\n",
       "      <td>0</td>\n",
       "      <td>0</td>\n",
       "      <td>2</td>\n",
       "      <td>0</td>\n",
       "      <td>0</td>\n",
       "      <td>2</td>\n",
       "      <td>0</td>\n",
       "      <td>...</td>\n",
       "      <td>0</td>\n",
       "      <td>1</td>\n",
       "      <td>0</td>\n",
       "      <td>0</td>\n",
       "      <td>0</td>\n",
       "      <td>1</td>\n",
       "      <td>0</td>\n",
       "      <td>0</td>\n",
       "      <td>0</td>\n",
       "      <td>0</td>\n",
       "    </tr>\n",
       "    <tr>\n",
       "      <th>11</th>\n",
       "      <td>1</td>\n",
       "      <td>1</td>\n",
       "      <td>0</td>\n",
       "      <td>0</td>\n",
       "      <td>0</td>\n",
       "      <td>2</td>\n",
       "      <td>0</td>\n",
       "      <td>1</td>\n",
       "      <td>1</td>\n",
       "      <td>0</td>\n",
       "      <td>...</td>\n",
       "      <td>0</td>\n",
       "      <td>1</td>\n",
       "      <td>0</td>\n",
       "      <td>0</td>\n",
       "      <td>0</td>\n",
       "      <td>1</td>\n",
       "      <td>0</td>\n",
       "      <td>0</td>\n",
       "      <td>0</td>\n",
       "      <td>0</td>\n",
       "    </tr>\n",
       "    <tr>\n",
       "      <th>16</th>\n",
       "      <td>1</td>\n",
       "      <td>1</td>\n",
       "      <td>0</td>\n",
       "      <td>0</td>\n",
       "      <td>0</td>\n",
       "      <td>2</td>\n",
       "      <td>0</td>\n",
       "      <td>0</td>\n",
       "      <td>1</td>\n",
       "      <td>0</td>\n",
       "      <td>...</td>\n",
       "      <td>0</td>\n",
       "      <td>1</td>\n",
       "      <td>0</td>\n",
       "      <td>0</td>\n",
       "      <td>0</td>\n",
       "      <td>1</td>\n",
       "      <td>0</td>\n",
       "      <td>0</td>\n",
       "      <td>0</td>\n",
       "      <td>0</td>\n",
       "    </tr>\n",
       "  </tbody>\n",
       "</table>\n",
       "<p>5 rows × 39 columns</p>\n",
       "</div>"
      ],
      "text/plain": [
       "    engage30  init  female_cd  nonwhite_cd  unemplmt_cd  primsev_cd  \\\n",
       "0          1     1          0            0            1           2   \n",
       "4          1     1          0            0            0           2   \n",
       "9          0     1          0            0            0           2   \n",
       "11         1     1          0            0            0           2   \n",
       "16         1     1          0            0            0           2   \n",
       "\n",
       "    prsatx_cd  TRIg_0_cd  TMIg_0_cd  SESg_0_cd  ...  SFSg_0_cd  Raceg4_cd_1  \\\n",
       "0           1          0          1          0  ...          0            1   \n",
       "4           0          1          1          0  ...          1            1   \n",
       "9           0          0          2          0  ...          0            1   \n",
       "11          0          1          1          0  ...          0            1   \n",
       "16          0          0          1          0  ...          0            1   \n",
       "\n",
       "    Raceg4_cd_2  Raceg4_cd_3  Raceg4_cd_4  loc_cd_1  loc_cd_2  loc_cd_3  \\\n",
       "0             0            0            0         1         0         0   \n",
       "4             0            0            0         1         0         0   \n",
       "9             0            0            0         1         0         0   \n",
       "11            0            0            0         1         0         0   \n",
       "16            0            0            0         1         0         0   \n",
       "\n",
       "    loc_cd_6  loc_cd_9  \n",
       "0          0         0  \n",
       "4          0         0  \n",
       "9          0         0  \n",
       "11         0         0  \n",
       "16         0         0  \n",
       "\n",
       "[5 rows x 39 columns]"
      ]
     },
     "execution_count": 3,
     "metadata": {},
     "output_type": "execute_result"
    }
   ],
   "source": [
    "df = pd.read_csv('data_cleaned.csv', index_col=[0])\n",
    "df.drop(columns=['ada_0_cd'], inplace=True) # temporary!!!\n",
    "\n",
    "print(df.shape)\n",
    "df.head()"
   ]
  },
  {
   "cell_type": "code",
   "execution_count": 4,
   "metadata": {},
   "outputs": [],
   "source": [
    "from sklearn.linear_model import LogisticRegressionCV\n",
    "from sklearn.model_selection import train_test_split\n",
    "from sklearn.metrics import roc_auc_score\n",
    "import matplotlib.pyplot as plt\n",
    "\n",
    "def bidirectional_feature_importance(X, y, verbose=False):\n",
    "    X_train_init, X_test, y_train_init, y_test = train_test_split(X, y, test_size=0.2)\n",
    "    X_train, X_val, y_train, y_val = train_test_split(X_train_init, y_train_init, test_size=0.2)\n",
    "\n",
    "    sfs_y = [] # SFS is performed from the empty set\n",
    "    sbs_y = list(X_train.columns) # SBS is performed from the full set\n",
    "    \n",
    "    stats_x = []\n",
    "    stats_y = []\n",
    "    feature_sets_local = {}\n",
    "\n",
    "    while len(sbs_y) - len(sfs_y) > 1: # repeat until convergence\n",
    "        if verbose:\n",
    "            print('sfs_y:', sfs_y)\n",
    "            print('sbs_y:', sbs_y)\n",
    "        \n",
    "        # Select the best feature\n",
    "        best_feat_score = 0\n",
    "        best_feat = ''\n",
    "        for feat in sbs_y: # Features already removed by SBS cannot be added by SFS\n",
    "            if feat not in sfs_y: # Ignore already added features\n",
    "                sfs_y.append(feat)\n",
    "\n",
    "                local_X_train = X_train[sfs_y]\n",
    "                model = LogisticRegressionCV(cv=5, max_iter=1000)\n",
    "                model.fit(local_X_train, y_train)\n",
    "\n",
    "                local_X_val = X_val[sfs_y]\n",
    "                lr_probs = model.predict_proba(local_X_val)\n",
    "                lr_probs = lr_probs[:, 1] # keep probabilities for the positive outcome only\n",
    "                lr_auc = roc_auc_score(y_val, lr_probs) # calculate scores\n",
    "                if lr_auc > best_feat_score:\n",
    "                    best_feat_score = lr_auc\n",
    "                    best_feat = feat\n",
    "\n",
    "                sfs_y.pop()\n",
    "                \n",
    "        if verbose:\n",
    "            print('adding', best_feat)\n",
    "        sfs_y.append(best_feat)\n",
    "        \n",
    "        # Remove the worst feature\n",
    "        worst_feat_score = 1\n",
    "        worst_feat = ''\n",
    "        for feat in sbs_y: # Ignore already removed features\n",
    "            if feat not in sfs_y: # Features already selected by SFS cannot be removed by SBS\n",
    "                sbs_y.remove(feat)\n",
    "\n",
    "                local_X_train = X_train[sbs_y]\n",
    "                model = LogisticRegressionCV(cv=5, max_iter=1000)\n",
    "                model.fit(local_X_train, y_train)\n",
    "\n",
    "                local_X_val = X_val[sbs_y]\n",
    "                lr_probs = model.predict_proba(local_X_val)\n",
    "                lr_probs = lr_probs[:, 1] # keep probabilities for the positive outcome only\n",
    "                lr_auc = roc_auc_score(y_val, lr_probs) # calculate scores \n",
    "                if lr_auc <= worst_feat_score:\n",
    "                    worst_feat_score = lr_auc\n",
    "                    worst_feat = feat\n",
    "\n",
    "                sbs_y.append(feat)\n",
    "                \n",
    "        if verbose:\n",
    "            print('removing', worst_feat)\n",
    "        sbs_y.remove(worst_feat)\n",
    "        \n",
    "        # for overall performance plot\n",
    "        model = LogisticRegressionCV(cv=5, max_iter=1000)\n",
    "        local_X_train_init = X_train_init[sbs_y]\n",
    "        model.fit(local_X_train_init, y_train_init)\n",
    "\n",
    "        local_X_test = X_test[sbs_y]\n",
    "        lr_probs = model.predict_proba(local_X_test)\n",
    "        lr_probs = lr_probs[:, 1] # keep probabilities for the positive outcome only\n",
    "        lr_auc = roc_auc_score(y_test, lr_probs) # calculate scores \n",
    "\n",
    "        stats_x.append(len(sbs_y))\n",
    "        stats_y.append(lr_auc)\n",
    "        feature_sets_local[len(sbs_y)] = sbs_y\n",
    "    \n",
    "    plt.plot(stats_x, stats_y)\n",
    "    plt.xlabel('# of features')\n",
    "    plt.ylabel('AUC')\n",
    "    plt.show()\n",
    "    \n",
    "    if verbose:\n",
    "        print('sfs_y final:', sfs_y)\n",
    "        print('sbs_y final:', sbs_y)\n",
    "    \n",
    "    return feature_sets_local"
   ]
  },
  {
   "cell_type": "code",
   "execution_count": 5,
   "metadata": {},
   "outputs": [
    {
     "name": "stdout",
     "output_type": "stream",
     "text": [
      "Opioids: (933, 38)\n",
      "Stimulants: (4524, 38)\n"
     ]
    }
   ],
   "source": [
    "opioids_mask = df['primsev_cd'] == 5\n",
    "opioids = df[opioids_mask]\n",
    "opioids = opioids.drop(columns=['primsev_cd'])\n",
    "\n",
    "amphetamines_mask = df['primsev_cd'] == 2\n",
    "cocaine_mask = df['primsev_cd'] == 4\n",
    "stimulants = df[amphetamines_mask | cocaine_mask]\n",
    "stimulants = stimulants.drop(columns=['primsev_cd'])\n",
    "\n",
    "print('Opioids:', opioids.shape)\n",
    "print('Stimulants:', stimulants.shape)"
   ]
  },
  {
   "cell_type": "code",
   "execution_count": 6,
   "metadata": {},
   "outputs": [],
   "source": [
    "opioids_engage30 = opioids.drop(columns=['init'])\n",
    "opioids_init = opioids.drop(columns=['engage30'])\n",
    "stimulants_engage30 = stimulants.drop(columns=['init'])\n",
    "stimulants_init = stimulants.drop(columns=['engage30'])"
   ]
  },
  {
   "cell_type": "code",
   "execution_count": 7,
   "metadata": {},
   "outputs": [
    {
     "data": {
      "image/png": "[encoded data removed]",
      "text/plain": [
       "<Figure size 432x288 with 1 Axes>"
      ]
     },
     "metadata": {
      "needs_background": "light"
     },
     "output_type": "display_data"
    },
    {
     "name": "stdout",
     "output_type": "stream",
     "text": [
      "CPU times: user 7min 48s, sys: 34.9 s, total: 8min 23s\n",
      "Wall time: 6min 5s\n"
     ]
    }
   ],
   "source": [
    "%%time\n",
    "\n",
    "X = opioids_engage30.drop(columns=['engage30'])\n",
    "y = opioids_engage30['engage30']\n",
    "feature_dict_opioids_engage30 = bidirectional_feature_importance(X, y)"
   ]
  },
  {
   "cell_type": "code",
   "execution_count": 16,
   "metadata": {},
   "outputs": [
    {
     "data": {
      "text/plain": [
       "['female_cd',\n",
       " 'SFSg_0_cd',\n",
       " 'loc_cd_3',\n",
       " 'loc_cd_1',\n",
       " 'prsatx_cd',\n",
       " 'epsg_0_cd',\n",
       " 'und15_cd',\n",
       " 'loc_cd_9',\n",
       " 'homeless_0_cd',\n",
       " 'gvsg_cd',\n",
       " 'loc_cd_2',\n",
       " 'dldiag_cd',\n",
       " 'S6_cd',\n",
       " 'ncar_cd',\n",
       " 'suicprbs_0_cd',\n",
       " 'gcsg_0_cd',\n",
       " 'dssg_0_cd',\n",
       " 'S9y10_cd']"
      ]
     },
     "execution_count": 16,
     "metadata": {},
     "output_type": "execute_result"
    }
   ],
   "source": [
    "feature_dict_opioids_engage30[25]"
   ]
  },
  {
   "cell_type": "code",
   "execution_count": 8,
   "metadata": {},
   "outputs": [
    {
     "data": {
      "image/png": "[encoded data removed]",
      "text/plain": [
       "<Figure size 432x288 with 1 Axes>"
      ]
     },
     "metadata": {
      "needs_background": "light"
     },
     "output_type": "display_data"
    },
    {
     "name": "stdout",
     "output_type": "stream",
     "text": [
      "CPU times: user 7min 1s, sys: 27.2 s, total: 7min 28s\n",
      "Wall time: 4min 54s\n"
     ]
    }
   ],
   "source": [
    "%%time\n",
    "\n",
    "X = opioids_init.drop(columns=['init'])\n",
    "y = opioids_init['init']\n",
    "feature_dict_opioids_init = bidirectional_feature_importance(X, y)"
   ]
  },
  {
   "cell_type": "code",
   "execution_count": 13,
   "metadata": {},
   "outputs": [
    {
     "data": {
      "text/plain": [
       "['adhdg_0_cd',\n",
       " 'ncar_cd',\n",
       " 'und15_cd',\n",
       " 'Raceg4_cd_1',\n",
       " 'Raceg4_cd_3',\n",
       " 'S6_cd',\n",
       " 'loc_cd_1',\n",
       " 'Raceg4_cd_2',\n",
       " 'TMIg_0_cd',\n",
       " 'srprobg_cd',\n",
       " 'TRIg_0_cd',\n",
       " 'dldiag_cd',\n",
       " 'unemplmt_cd',\n",
       " 'lrig_0_cd',\n",
       " 'CWSg_0_cd',\n",
       " 'dssg_0_cd',\n",
       " 'tsd_0_cd',\n",
       " 'SFSg_0_cd']"
      ]
     },
     "execution_count": 13,
     "metadata": {},
     "output_type": "execute_result"
    }
   ],
   "source": [
    "feature_dict_opioids_init[18]"
   ]
  },
  {
   "cell_type": "code",
   "execution_count": 9,
   "metadata": {},
   "outputs": [
    {
     "data": {
      "image/png": "[encoded data removed]",
      "text/plain": [
       "<Figure size 432x288 with 1 Axes>"
      ]
     },
     "metadata": {
      "needs_background": "light"
     },
     "output_type": "display_data"
    },
    {
     "name": "stdout",
     "output_type": "stream",
     "text": [
      "CPU times: user 7min 45s, sys: 32.8 s, total: 8min 18s\n",
      "Wall time: 4min 28s\n"
     ]
    }
   ],
   "source": [
    "%%time\n",
    "\n",
    "X = stimulants_engage30.drop(columns=['engage30'])\n",
    "y = stimulants_engage30['engage30']\n",
    "feature_dict_stimulants_engage30 = bidirectional_feature_importance(X, y)"
   ]
  },
  {
   "cell_type": "code",
   "execution_count": 14,
   "metadata": {},
   "outputs": [
    {
     "data": {
      "text/plain": [
       "['cjsig_0_cd',\n",
       " 'loc_cd_9',\n",
       " 'loc_cd_6',\n",
       " 'gcsg_0_cd',\n",
       " 'TMIg_0_cd',\n",
       " 'S9y10_cd',\n",
       " 'loc_cd_2',\n",
       " 'Raceg4_cd_1',\n",
       " 'ncar_cd',\n",
       " 'lrig_0_cd',\n",
       " 'epsg_0_cd',\n",
       " 'loc_cd_3',\n",
       " 'female_cd',\n",
       " 'dssg_0_cd',\n",
       " 'CWSg_0_cd',\n",
       " 'und15_cd',\n",
       " 'srprobg_cd',\n",
       " 'srig_0_cd']"
      ]
     },
     "execution_count": 14,
     "metadata": {},
     "output_type": "execute_result"
    }
   ],
   "source": [
    "feature_dict_stimulants_engage30[22]"
   ]
  },
  {
   "cell_type": "code",
   "execution_count": 10,
   "metadata": {},
   "outputs": [
    {
     "data": {
      "image/png": "[encoded data removed]",
      "text/plain": [
       "<Figure size 432x288 with 1 Axes>"
      ]
     },
     "metadata": {
      "needs_background": "light"
     },
     "output_type": "display_data"
    },
    {
     "name": "stdout",
     "output_type": "stream",
     "text": [
      "CPU times: user 6min 53s, sys: 27.9 s, total: 7min 21s\n",
      "Wall time: 3min 57s\n"
     ]
    }
   ],
   "source": [
    "%%time\n",
    "\n",
    "X = stimulants_init.drop(columns=['init'])\n",
    "y = stimulants_init['init']\n",
    "feature_dict_stimulants_init = bidirectional_feature_importance(X, y)"
   ]
  },
  {
   "cell_type": "code",
   "execution_count": 15,
   "metadata": {},
   "outputs": [
    {
     "data": {
      "text/plain": [
       "['epsg_0_cd',\n",
       " 'loc_cd_1',\n",
       " 'loc_cd_3',\n",
       " 'unemplmt_cd',\n",
       " 'loc_cd_2',\n",
       " 'homeless_0_cd',\n",
       " 'TRIg_0_cd',\n",
       " 'srig_0_cd',\n",
       " 'suicprbs_0_cd',\n",
       " 'loc_cd_9',\n",
       " 'Raceg4_cd_4',\n",
       " 'nonwhite_cd',\n",
       " 'CWSg_0_cd',\n",
       " 'female_cd',\n",
       " 'Raceg4_cd_3',\n",
       " 'gcsg_0_cd',\n",
       " 'SESg_0_cd',\n",
       " 'cdsg_0_cd']"
      ]
     },
     "execution_count": 15,
     "metadata": {},
     "output_type": "execute_result"
    }
   ],
   "source": [
    "feature_dict_stimulants_init[18]"
   ]
  },
  {
   "cell_type": "code",
   "execution_count": 11,
   "metadata": {},
   "outputs": [
    {
     "name": "stdout",
     "output_type": "stream",
     "text": [
      "--- 19 minutes 27 seconds ---\n"
     ]
    }
   ],
   "source": [
    "total_seconds = int(time.time() - start_time)\n",
    "hours = total_seconds // (60 * 60)\n",
    "minutes = (total_seconds - hours*60) // 60\n",
    "seconds = (total_seconds - hours*60) % 60\n",
    "print(\"--- \" + str(minutes) + \" minutes \" + str(seconds) + \" seconds ---\")"
   ]
  }
 ],
 "metadata": {
  "kernelspec": {
   "display_name": "Python 3",
   "language": "python",
   "name": "python3"
  },
  "language_info": {
   "codemirror_mode": {
    "name": "ipython",
    "version": 3
   },
   "file_extension": ".py",
   "mimetype": "text/x-python",
   "name": "python",
   "nbconvert_exporter": "python",
   "pygments_lexer": "ipython3",
   "version": "3.7.3"
  }
 },
 "nbformat": 4,
 "nbformat_minor": 2
}
